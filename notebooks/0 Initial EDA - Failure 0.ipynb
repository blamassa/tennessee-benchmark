{
 "cells": [
  {
   "cell_type": "markdown",
   "metadata": {},
   "source": [
    "# Initial EDA - Normal operating conditions (dataset 00)"
   ]
  },
  {
   "cell_type": "code",
   "execution_count": 1,
   "metadata": {},
   "outputs": [
    {
     "data": {
      "text/html": [
       "        <script type=\"text/javascript\">\n",
       "        window.PlotlyConfig = {MathJaxConfig: 'local'};\n",
       "        if (window.MathJax) {MathJax.Hub.Config({SVG: {font: \"STIX-Web\"}});}\n",
       "        if (typeof require !== 'undefined') {\n",
       "        require.undef(\"plotly\");\n",
       "        requirejs.config({\n",
       "            paths: {\n",
       "                'plotly': ['https://cdn.plot.ly/plotly-latest.min']\n",
       "            }\n",
       "        });\n",
       "        require(['plotly'], function(Plotly) {\n",
       "            window._Plotly = Plotly;\n",
       "        });\n",
       "        }\n",
       "        </script>\n",
       "        "
      ]
     },
     "metadata": {},
     "output_type": "display_data"
    }
   ],
   "source": [
    "import pandas as pd\n",
    "import numpy as np\n",
    "import plotly.offline as pyo\n",
    "import plotly.graph_objs as go\n",
    "import matplotlib.pyplot as plt\n",
    "import seaborn as sns\n",
    "pyo.init_notebook_mode(connected=True)\n",
    "\n",
    "# import plotly_express as px\n",
    "\n",
    "from ipywidgets import interact"
   ]
  },
  {
   "cell_type": "code",
   "execution_count": 2,
   "metadata": {},
   "outputs": [],
   "source": [
    "import missingno as msno"
   ]
  },
  {
   "cell_type": "code",
   "execution_count": 3,
   "metadata": {},
   "outputs": [],
   "source": [
    "file = 'd00'"
   ]
  },
  {
   "cell_type": "code",
   "execution_count": 4,
   "metadata": {},
   "outputs": [],
   "source": [
    "# Reading files\n",
    "d00_test = pd.read_csv('../data/'+file+'.dat', sep='\\s+', header=None).T\n",
    "d00_train = pd.read_csv('../data/'+file+'_te.dat', sep='\\s+', header=None)\n",
    "\n",
    "# Renaming columns (columns as integers is not good)\n",
    "d00_test.columns = ['f'+str(i) for i in range(0,52)]\n",
    "d00_train.columns = ['f'+str(i) for i in range(0,52)]\n",
    "\n",
    "# Unifying dataset\n",
    "d00 = pd.concat([d00_train, d00_test])"
   ]
  },
  {
   "cell_type": "markdown",
   "metadata": {},
   "source": [
    "---\n",
    "# Reproducing Belisário et al"
   ]
  },
  {
   "cell_type": "markdown",
   "metadata": {},
   "source": [
    "### 1. Standardization"
   ]
  },
  {
   "cell_type": "code",
   "execution_count": 5,
   "metadata": {},
   "outputs": [],
   "source": [
    "from sklearn.preprocessing import StandardScaler"
   ]
  },
  {
   "cell_type": "code",
   "execution_count": 6,
   "metadata": {},
   "outputs": [],
   "source": [
    "df = pd.DataFrame(StandardScaler().fit_transform(d00_train), columns=d00_train.columns)"
   ]
  },
  {
   "cell_type": "markdown",
   "metadata": {},
   "source": [
    "### 2. $\\bar{X}$ vec"
   ]
  },
  {
   "cell_type": "code",
   "execution_count": 7,
   "metadata": {},
   "outputs": [],
   "source": [
    "xbar = df.mean()"
   ]
  },
  {
   "cell_type": "markdown",
   "metadata": {},
   "source": [
    "### 3. Cov matrix"
   ]
  },
  {
   "cell_type": "code",
   "execution_count": 8,
   "metadata": {},
   "outputs": [],
   "source": [
    "df_cov = df.cov()"
   ]
  },
  {
   "cell_type": "markdown",
   "metadata": {},
   "source": [
    "### 4. Eigenvectors (v) and Eigenvalues (w)"
   ]
  },
  {
   "cell_type": "code",
   "execution_count": 9,
   "metadata": {},
   "outputs": [],
   "source": [
    "v,w = np.linalg.eig(df_cov)"
   ]
  },
  {
   "cell_type": "markdown",
   "metadata": {},
   "source": [
    "### 5. Ranking values"
   ]
  },
  {
   "cell_type": "code",
   "execution_count": 10,
   "metadata": {},
   "outputs": [],
   "source": [
    "df_rank = pd.DataFrame(w)\n",
    "df_rank['autovalues'] = v\n",
    "# df_rank['autovectors'] = [v]\n",
    "df_rank = df_rank[['autovalues'] +list(df_rank.columns.drop('autovalues'))]\n",
    "df_ranked = df_rank.sort_values('autovalues', ascending=False)\n",
    "df_ranked['percent_explained_var'] = df_ranked['autovalues']/df_ranked['autovalues'].sum()"
   ]
  },
  {
   "cell_type": "code",
   "execution_count": 11,
   "metadata": {},
   "outputs": [
    {
     "data": {
      "application/vnd.plotly.v1+json": {
       "config": {
        "linkText": "Export to plot.ly",
        "plotlyServerURL": "https://plot.ly",
        "showLink": false
       },
       "data": [
        {
         "name": "cumsum",
         "type": "scatter",
         "x": [
          1,
          2,
          3,
          4,
          5,
          6,
          7,
          8,
          9,
          10,
          11,
          12,
          13,
          14,
          15,
          16,
          17,
          18,
          19,
          20,
          21,
          22,
          23,
          24,
          25,
          26,
          27,
          28,
          29,
          30,
          31,
          32,
          33,
          35,
          34,
          36,
          37,
          38,
          39,
          40,
          41,
          42,
          43,
          44,
          45,
          46,
          47,
          48,
          49,
          50,
          52,
          51
         ],
         "y": [
          0.14343148199942884,
          0.2311260432504444,
          0.2855913104698228,
          0.32701512987182807,
          0.3673493203485494,
          0.4056706358550546,
          0.4432198906700761,
          0.47554394016439133,
          0.5053015612507253,
          0.5317560691055435,
          0.5561064261355488,
          0.5796743062609567,
          0.6024250161561423,
          0.6243484736566485,
          0.6453095440527606,
          0.6653953306245624,
          0.6853463638949022,
          0.7048411754247998,
          0.7232221937122901,
          0.7412083065778691,
          0.7588649901131405,
          0.776110380703076,
          0.7926605306240996,
          0.8087228290688434,
          0.8240116918539389,
          0.8390684025908663,
          0.8536426651742981,
          0.8677837152077874,
          0.881213481633295,
          0.8945842052529254,
          0.9064466780916581,
          0.9181530536448842,
          0.9294948279587475,
          0.9400853805970343,
          0.9504636417416626,
          0.9602433389991458,
          0.9688989884896029,
          0.9770822479435597,
          0.9840019247461816,
          0.989776345957175,
          0.9943755229282726,
          0.9975781576118022,
          0.9986065035731762,
          0.999377362904599,
          0.9996521868793736,
          0.9997956903349786,
          0.9998982537693246,
          0.9999614596543994,
          0.9999982350544915,
          0.9999999984064767,
          0.9999999992252097,
          1
         ]
        }
       ],
       "layout": {
        "template": {
         "data": {
          "bar": [
           {
            "error_x": {
             "color": "#2a3f5f"
            },
            "error_y": {
             "color": "#2a3f5f"
            },
            "marker": {
             "line": {
              "color": "#E5ECF6",
              "width": 0.5
             }
            },
            "type": "bar"
           }
          ],
          "barpolar": [
           {
            "marker": {
             "line": {
              "color": "#E5ECF6",
              "width": 0.5
             }
            },
            "type": "barpolar"
           }
          ],
          "carpet": [
           {
            "aaxis": {
             "endlinecolor": "#2a3f5f",
             "gridcolor": "white",
             "linecolor": "white",
             "minorgridcolor": "white",
             "startlinecolor": "#2a3f5f"
            },
            "baxis": {
             "endlinecolor": "#2a3f5f",
             "gridcolor": "white",
             "linecolor": "white",
             "minorgridcolor": "white",
             "startlinecolor": "#2a3f5f"
            },
            "type": "carpet"
           }
          ],
          "choropleth": [
           {
            "colorbar": {
             "outlinewidth": 0,
             "ticks": ""
            },
            "type": "choropleth"
           }
          ],
          "contour": [
           {
            "colorbar": {
             "outlinewidth": 0,
             "ticks": ""
            },
            "colorscale": [
             [
              0,
              "#0d0887"
             ],
             [
              0.1111111111111111,
              "#46039f"
             ],
             [
              0.2222222222222222,
              "#7201a8"
             ],
             [
              0.3333333333333333,
              "#9c179e"
             ],
             [
              0.4444444444444444,
              "#bd3786"
             ],
             [
              0.5555555555555556,
              "#d8576b"
             ],
             [
              0.6666666666666666,
              "#ed7953"
             ],
             [
              0.7777777777777778,
              "#fb9f3a"
             ],
             [
              0.8888888888888888,
              "#fdca26"
             ],
             [
              1,
              "#f0f921"
             ]
            ],
            "type": "contour"
           }
          ],
          "contourcarpet": [
           {
            "colorbar": {
             "outlinewidth": 0,
             "ticks": ""
            },
            "type": "contourcarpet"
           }
          ],
          "heatmap": [
           {
            "colorbar": {
             "outlinewidth": 0,
             "ticks": ""
            },
            "colorscale": [
             [
              0,
              "#0d0887"
             ],
             [
              0.1111111111111111,
              "#46039f"
             ],
             [
              0.2222222222222222,
              "#7201a8"
             ],
             [
              0.3333333333333333,
              "#9c179e"
             ],
             [
              0.4444444444444444,
              "#bd3786"
             ],
             [
              0.5555555555555556,
              "#d8576b"
             ],
             [
              0.6666666666666666,
              "#ed7953"
             ],
             [
              0.7777777777777778,
              "#fb9f3a"
             ],
             [
              0.8888888888888888,
              "#fdca26"
             ],
             [
              1,
              "#f0f921"
             ]
            ],
            "type": "heatmap"
           }
          ],
          "heatmapgl": [
           {
            "colorbar": {
             "outlinewidth": 0,
             "ticks": ""
            },
            "colorscale": [
             [
              0,
              "#0d0887"
             ],
             [
              0.1111111111111111,
              "#46039f"
             ],
             [
              0.2222222222222222,
              "#7201a8"
             ],
             [
              0.3333333333333333,
              "#9c179e"
             ],
             [
              0.4444444444444444,
              "#bd3786"
             ],
             [
              0.5555555555555556,
              "#d8576b"
             ],
             [
              0.6666666666666666,
              "#ed7953"
             ],
             [
              0.7777777777777778,
              "#fb9f3a"
             ],
             [
              0.8888888888888888,
              "#fdca26"
             ],
             [
              1,
              "#f0f921"
             ]
            ],
            "type": "heatmapgl"
           }
          ],
          "histogram": [
           {
            "marker": {
             "colorbar": {
              "outlinewidth": 0,
              "ticks": ""
             }
            },
            "type": "histogram"
           }
          ],
          "histogram2d": [
           {
            "colorbar": {
             "outlinewidth": 0,
             "ticks": ""
            },
            "colorscale": [
             [
              0,
              "#0d0887"
             ],
             [
              0.1111111111111111,
              "#46039f"
             ],
             [
              0.2222222222222222,
              "#7201a8"
             ],
             [
              0.3333333333333333,
              "#9c179e"
             ],
             [
              0.4444444444444444,
              "#bd3786"
             ],
             [
              0.5555555555555556,
              "#d8576b"
             ],
             [
              0.6666666666666666,
              "#ed7953"
             ],
             [
              0.7777777777777778,
              "#fb9f3a"
             ],
             [
              0.8888888888888888,
              "#fdca26"
             ],
             [
              1,
              "#f0f921"
             ]
            ],
            "type": "histogram2d"
           }
          ],
          "histogram2dcontour": [
           {
            "colorbar": {
             "outlinewidth": 0,
             "ticks": ""
            },
            "colorscale": [
             [
              0,
              "#0d0887"
             ],
             [
              0.1111111111111111,
              "#46039f"
             ],
             [
              0.2222222222222222,
              "#7201a8"
             ],
             [
              0.3333333333333333,
              "#9c179e"
             ],
             [
              0.4444444444444444,
              "#bd3786"
             ],
             [
              0.5555555555555556,
              "#d8576b"
             ],
             [
              0.6666666666666666,
              "#ed7953"
             ],
             [
              0.7777777777777778,
              "#fb9f3a"
             ],
             [
              0.8888888888888888,
              "#fdca26"
             ],
             [
              1,
              "#f0f921"
             ]
            ],
            "type": "histogram2dcontour"
           }
          ],
          "mesh3d": [
           {
            "colorbar": {
             "outlinewidth": 0,
             "ticks": ""
            },
            "type": "mesh3d"
           }
          ],
          "parcoords": [
           {
            "line": {
             "colorbar": {
              "outlinewidth": 0,
              "ticks": ""
             }
            },
            "type": "parcoords"
           }
          ],
          "scatter": [
           {
            "marker": {
             "colorbar": {
              "outlinewidth": 0,
              "ticks": ""
             }
            },
            "type": "scatter"
           }
          ],
          "scatter3d": [
           {
            "line": {
             "colorbar": {
              "outlinewidth": 0,
              "ticks": ""
             }
            },
            "marker": {
             "colorbar": {
              "outlinewidth": 0,
              "ticks": ""
             }
            },
            "type": "scatter3d"
           }
          ],
          "scattercarpet": [
           {
            "marker": {
             "colorbar": {
              "outlinewidth": 0,
              "ticks": ""
             }
            },
            "type": "scattercarpet"
           }
          ],
          "scattergeo": [
           {
            "marker": {
             "colorbar": {
              "outlinewidth": 0,
              "ticks": ""
             }
            },
            "type": "scattergeo"
           }
          ],
          "scattergl": [
           {
            "marker": {
             "colorbar": {
              "outlinewidth": 0,
              "ticks": ""
             }
            },
            "type": "scattergl"
           }
          ],
          "scattermapbox": [
           {
            "marker": {
             "colorbar": {
              "outlinewidth": 0,
              "ticks": ""
             }
            },
            "type": "scattermapbox"
           }
          ],
          "scatterpolar": [
           {
            "marker": {
             "colorbar": {
              "outlinewidth": 0,
              "ticks": ""
             }
            },
            "type": "scatterpolar"
           }
          ],
          "scatterpolargl": [
           {
            "marker": {
             "colorbar": {
              "outlinewidth": 0,
              "ticks": ""
             }
            },
            "type": "scatterpolargl"
           }
          ],
          "scatterternary": [
           {
            "marker": {
             "colorbar": {
              "outlinewidth": 0,
              "ticks": ""
             }
            },
            "type": "scatterternary"
           }
          ],
          "surface": [
           {
            "colorbar": {
             "outlinewidth": 0,
             "ticks": ""
            },
            "colorscale": [
             [
              0,
              "#0d0887"
             ],
             [
              0.1111111111111111,
              "#46039f"
             ],
             [
              0.2222222222222222,
              "#7201a8"
             ],
             [
              0.3333333333333333,
              "#9c179e"
             ],
             [
              0.4444444444444444,
              "#bd3786"
             ],
             [
              0.5555555555555556,
              "#d8576b"
             ],
             [
              0.6666666666666666,
              "#ed7953"
             ],
             [
              0.7777777777777778,
              "#fb9f3a"
             ],
             [
              0.8888888888888888,
              "#fdca26"
             ],
             [
              1,
              "#f0f921"
             ]
            ],
            "type": "surface"
           }
          ],
          "table": [
           {
            "cells": {
             "fill": {
              "color": "#EBF0F8"
             },
             "line": {
              "color": "white"
             }
            },
            "header": {
             "fill": {
              "color": "#C8D4E3"
             },
             "line": {
              "color": "white"
             }
            },
            "type": "table"
           }
          ]
         },
         "layout": {
          "annotationdefaults": {
           "arrowcolor": "#2a3f5f",
           "arrowhead": 0,
           "arrowwidth": 1
          },
          "colorscale": {
           "diverging": [
            [
             0,
             "#8e0152"
            ],
            [
             0.1,
             "#c51b7d"
            ],
            [
             0.2,
             "#de77ae"
            ],
            [
             0.3,
             "#f1b6da"
            ],
            [
             0.4,
             "#fde0ef"
            ],
            [
             0.5,
             "#f7f7f7"
            ],
            [
             0.6,
             "#e6f5d0"
            ],
            [
             0.7,
             "#b8e186"
            ],
            [
             0.8,
             "#7fbc41"
            ],
            [
             0.9,
             "#4d9221"
            ],
            [
             1,
             "#276419"
            ]
           ],
           "sequential": [
            [
             0,
             "#0d0887"
            ],
            [
             0.1111111111111111,
             "#46039f"
            ],
            [
             0.2222222222222222,
             "#7201a8"
            ],
            [
             0.3333333333333333,
             "#9c179e"
            ],
            [
             0.4444444444444444,
             "#bd3786"
            ],
            [
             0.5555555555555556,
             "#d8576b"
            ],
            [
             0.6666666666666666,
             "#ed7953"
            ],
            [
             0.7777777777777778,
             "#fb9f3a"
            ],
            [
             0.8888888888888888,
             "#fdca26"
            ],
            [
             1,
             "#f0f921"
            ]
           ],
           "sequentialminus": [
            [
             0,
             "#0d0887"
            ],
            [
             0.1111111111111111,
             "#46039f"
            ],
            [
             0.2222222222222222,
             "#7201a8"
            ],
            [
             0.3333333333333333,
             "#9c179e"
            ],
            [
             0.4444444444444444,
             "#bd3786"
            ],
            [
             0.5555555555555556,
             "#d8576b"
            ],
            [
             0.6666666666666666,
             "#ed7953"
            ],
            [
             0.7777777777777778,
             "#fb9f3a"
            ],
            [
             0.8888888888888888,
             "#fdca26"
            ],
            [
             1,
             "#f0f921"
            ]
           ]
          },
          "colorway": [
           "#636efa",
           "#EF553B",
           "#00cc96",
           "#ab63fa",
           "#FFA15A",
           "#19d3f3",
           "#FF6692",
           "#B6E880",
           "#FF97FF",
           "#FECB52"
          ],
          "font": {
           "color": "#2a3f5f"
          },
          "geo": {
           "bgcolor": "white",
           "lakecolor": "white",
           "landcolor": "#E5ECF6",
           "showlakes": true,
           "showland": true,
           "subunitcolor": "white"
          },
          "hoverlabel": {
           "align": "left"
          },
          "hovermode": "closest",
          "mapbox": {
           "style": "light"
          },
          "paper_bgcolor": "white",
          "plot_bgcolor": "#E5ECF6",
          "polar": {
           "angularaxis": {
            "gridcolor": "white",
            "linecolor": "white",
            "ticks": ""
           },
           "bgcolor": "#E5ECF6",
           "radialaxis": {
            "gridcolor": "white",
            "linecolor": "white",
            "ticks": ""
           }
          },
          "scene": {
           "xaxis": {
            "backgroundcolor": "#E5ECF6",
            "gridcolor": "white",
            "gridwidth": 2,
            "linecolor": "white",
            "showbackground": true,
            "ticks": "",
            "zerolinecolor": "white"
           },
           "yaxis": {
            "backgroundcolor": "#E5ECF6",
            "gridcolor": "white",
            "gridwidth": 2,
            "linecolor": "white",
            "showbackground": true,
            "ticks": "",
            "zerolinecolor": "white"
           },
           "zaxis": {
            "backgroundcolor": "#E5ECF6",
            "gridcolor": "white",
            "gridwidth": 2,
            "linecolor": "white",
            "showbackground": true,
            "ticks": "",
            "zerolinecolor": "white"
           }
          },
          "shapedefaults": {
           "line": {
            "color": "#2a3f5f"
           }
          },
          "ternary": {
           "aaxis": {
            "gridcolor": "white",
            "linecolor": "white",
            "ticks": ""
           },
           "baxis": {
            "gridcolor": "white",
            "linecolor": "white",
            "ticks": ""
           },
           "bgcolor": "#E5ECF6",
           "caxis": {
            "gridcolor": "white",
            "linecolor": "white",
            "ticks": ""
           }
          },
          "title": {
           "x": 0.05
          },
          "xaxis": {
           "automargin": true,
           "gridcolor": "white",
           "linecolor": "white",
           "ticks": "",
           "zerolinecolor": "white",
           "zerolinewidth": 2
          },
          "yaxis": {
           "automargin": true,
           "gridcolor": "white",
           "linecolor": "white",
           "ticks": "",
           "zerolinecolor": "white",
           "zerolinewidth": 2
          }
         }
        },
        "title": {
         "text": "Cumsum of explained variance"
        },
        "xaxis": {
         "title": {
          "text": "Number of principal components"
         }
        },
        "yaxis": {
         "title": {
          "text": "Explained variance (%)"
         }
        }
       }
      },
      "text/html": [
       "<div>\n",
       "        \n",
       "        \n",
       "            <div id=\"7fb704b7-83dd-4a1d-ba9e-b89e6c31f870\" class=\"plotly-graph-div\" style=\"height:525px; width:100%;\"></div>\n",
       "            <script type=\"text/javascript\">\n",
       "                require([\"plotly\"], function(Plotly) {\n",
       "                    window.PLOTLYENV=window.PLOTLYENV || {};\n",
       "                    \n",
       "                if (document.getElementById(\"7fb704b7-83dd-4a1d-ba9e-b89e6c31f870\")) {\n",
       "                    Plotly.newPlot(\n",
       "                        '7fb704b7-83dd-4a1d-ba9e-b89e6c31f870',\n",
       "                        [{\"name\": \"cumsum\", \"type\": \"scatter\", \"x\": [1, 2, 3, 4, 5, 6, 7, 8, 9, 10, 11, 12, 13, 14, 15, 16, 17, 18, 19, 20, 21, 22, 23, 24, 25, 26, 27, 28, 29, 30, 31, 32, 33, 35, 34, 36, 37, 38, 39, 40, 41, 42, 43, 44, 45, 46, 47, 48, 49, 50, 52, 51], \"y\": [0.14343148199942884, 0.2311260432504444, 0.2855913104698228, 0.32701512987182807, 0.3673493203485494, 0.4056706358550546, 0.4432198906700761, 0.47554394016439133, 0.5053015612507253, 0.5317560691055435, 0.5561064261355488, 0.5796743062609567, 0.6024250161561423, 0.6243484736566485, 0.6453095440527606, 0.6653953306245624, 0.6853463638949022, 0.7048411754247998, 0.7232221937122901, 0.7412083065778691, 0.7588649901131405, 0.776110380703076, 0.7926605306240996, 0.8087228290688434, 0.8240116918539389, 0.8390684025908663, 0.8536426651742981, 0.8677837152077874, 0.881213481633295, 0.8945842052529254, 0.9064466780916581, 0.9181530536448842, 0.9294948279587475, 0.9400853805970343, 0.9504636417416626, 0.9602433389991458, 0.9688989884896029, 0.9770822479435597, 0.9840019247461816, 0.989776345957175, 0.9943755229282726, 0.9975781576118022, 0.9986065035731762, 0.999377362904599, 0.9996521868793736, 0.9997956903349786, 0.9998982537693246, 0.9999614596543994, 0.9999982350544915, 0.9999999984064767, 0.9999999992252097, 1.0]}],\n",
       "                        {\"template\": {\"data\": {\"bar\": [{\"error_x\": {\"color\": \"#2a3f5f\"}, \"error_y\": {\"color\": \"#2a3f5f\"}, \"marker\": {\"line\": {\"color\": \"#E5ECF6\", \"width\": 0.5}}, \"type\": \"bar\"}], \"barpolar\": [{\"marker\": {\"line\": {\"color\": \"#E5ECF6\", \"width\": 0.5}}, \"type\": \"barpolar\"}], \"carpet\": [{\"aaxis\": {\"endlinecolor\": \"#2a3f5f\", \"gridcolor\": \"white\", \"linecolor\": \"white\", \"minorgridcolor\": \"white\", \"startlinecolor\": \"#2a3f5f\"}, \"baxis\": {\"endlinecolor\": \"#2a3f5f\", \"gridcolor\": \"white\", \"linecolor\": \"white\", \"minorgridcolor\": \"white\", \"startlinecolor\": \"#2a3f5f\"}, \"type\": \"carpet\"}], \"choropleth\": [{\"colorbar\": {\"outlinewidth\": 0, \"ticks\": \"\"}, \"type\": \"choropleth\"}], \"contour\": [{\"colorbar\": {\"outlinewidth\": 0, \"ticks\": \"\"}, \"colorscale\": [[0.0, \"#0d0887\"], [0.1111111111111111, \"#46039f\"], [0.2222222222222222, \"#7201a8\"], [0.3333333333333333, \"#9c179e\"], [0.4444444444444444, \"#bd3786\"], [0.5555555555555556, \"#d8576b\"], [0.6666666666666666, \"#ed7953\"], [0.7777777777777778, \"#fb9f3a\"], [0.8888888888888888, \"#fdca26\"], [1.0, \"#f0f921\"]], \"type\": \"contour\"}], \"contourcarpet\": [{\"colorbar\": {\"outlinewidth\": 0, \"ticks\": \"\"}, \"type\": \"contourcarpet\"}], \"heatmap\": [{\"colorbar\": {\"outlinewidth\": 0, \"ticks\": \"\"}, \"colorscale\": [[0.0, \"#0d0887\"], [0.1111111111111111, \"#46039f\"], [0.2222222222222222, \"#7201a8\"], [0.3333333333333333, \"#9c179e\"], [0.4444444444444444, \"#bd3786\"], [0.5555555555555556, \"#d8576b\"], [0.6666666666666666, \"#ed7953\"], [0.7777777777777778, \"#fb9f3a\"], [0.8888888888888888, \"#fdca26\"], [1.0, \"#f0f921\"]], \"type\": \"heatmap\"}], \"heatmapgl\": [{\"colorbar\": {\"outlinewidth\": 0, \"ticks\": \"\"}, \"colorscale\": [[0.0, \"#0d0887\"], [0.1111111111111111, \"#46039f\"], [0.2222222222222222, \"#7201a8\"], [0.3333333333333333, \"#9c179e\"], [0.4444444444444444, \"#bd3786\"], [0.5555555555555556, \"#d8576b\"], [0.6666666666666666, \"#ed7953\"], [0.7777777777777778, \"#fb9f3a\"], [0.8888888888888888, \"#fdca26\"], [1.0, \"#f0f921\"]], \"type\": \"heatmapgl\"}], \"histogram\": [{\"marker\": {\"colorbar\": {\"outlinewidth\": 0, \"ticks\": \"\"}}, \"type\": \"histogram\"}], \"histogram2d\": [{\"colorbar\": {\"outlinewidth\": 0, \"ticks\": \"\"}, \"colorscale\": [[0.0, \"#0d0887\"], [0.1111111111111111, \"#46039f\"], [0.2222222222222222, \"#7201a8\"], [0.3333333333333333, \"#9c179e\"], [0.4444444444444444, \"#bd3786\"], [0.5555555555555556, \"#d8576b\"], [0.6666666666666666, \"#ed7953\"], [0.7777777777777778, \"#fb9f3a\"], [0.8888888888888888, \"#fdca26\"], [1.0, \"#f0f921\"]], \"type\": \"histogram2d\"}], \"histogram2dcontour\": [{\"colorbar\": {\"outlinewidth\": 0, \"ticks\": \"\"}, \"colorscale\": [[0.0, \"#0d0887\"], [0.1111111111111111, \"#46039f\"], [0.2222222222222222, \"#7201a8\"], [0.3333333333333333, \"#9c179e\"], [0.4444444444444444, \"#bd3786\"], [0.5555555555555556, \"#d8576b\"], [0.6666666666666666, \"#ed7953\"], [0.7777777777777778, \"#fb9f3a\"], [0.8888888888888888, \"#fdca26\"], [1.0, \"#f0f921\"]], \"type\": \"histogram2dcontour\"}], \"mesh3d\": [{\"colorbar\": {\"outlinewidth\": 0, \"ticks\": \"\"}, \"type\": \"mesh3d\"}], \"parcoords\": [{\"line\": {\"colorbar\": {\"outlinewidth\": 0, \"ticks\": \"\"}}, \"type\": \"parcoords\"}], \"scatter\": [{\"marker\": {\"colorbar\": {\"outlinewidth\": 0, \"ticks\": \"\"}}, \"type\": \"scatter\"}], \"scatter3d\": [{\"line\": {\"colorbar\": {\"outlinewidth\": 0, \"ticks\": \"\"}}, \"marker\": {\"colorbar\": {\"outlinewidth\": 0, \"ticks\": \"\"}}, \"type\": \"scatter3d\"}], \"scattercarpet\": [{\"marker\": {\"colorbar\": {\"outlinewidth\": 0, \"ticks\": \"\"}}, \"type\": \"scattercarpet\"}], \"scattergeo\": [{\"marker\": {\"colorbar\": {\"outlinewidth\": 0, \"ticks\": \"\"}}, \"type\": \"scattergeo\"}], \"scattergl\": [{\"marker\": {\"colorbar\": {\"outlinewidth\": 0, \"ticks\": \"\"}}, \"type\": \"scattergl\"}], \"scattermapbox\": [{\"marker\": {\"colorbar\": {\"outlinewidth\": 0, \"ticks\": \"\"}}, \"type\": \"scattermapbox\"}], \"scatterpolar\": [{\"marker\": {\"colorbar\": {\"outlinewidth\": 0, \"ticks\": \"\"}}, \"type\": \"scatterpolar\"}], \"scatterpolargl\": [{\"marker\": {\"colorbar\": {\"outlinewidth\": 0, \"ticks\": \"\"}}, \"type\": \"scatterpolargl\"}], \"scatterternary\": [{\"marker\": {\"colorbar\": {\"outlinewidth\": 0, \"ticks\": \"\"}}, \"type\": \"scatterternary\"}], \"surface\": [{\"colorbar\": {\"outlinewidth\": 0, \"ticks\": \"\"}, \"colorscale\": [[0.0, \"#0d0887\"], [0.1111111111111111, \"#46039f\"], [0.2222222222222222, \"#7201a8\"], [0.3333333333333333, \"#9c179e\"], [0.4444444444444444, \"#bd3786\"], [0.5555555555555556, \"#d8576b\"], [0.6666666666666666, \"#ed7953\"], [0.7777777777777778, \"#fb9f3a\"], [0.8888888888888888, \"#fdca26\"], [1.0, \"#f0f921\"]], \"type\": \"surface\"}], \"table\": [{\"cells\": {\"fill\": {\"color\": \"#EBF0F8\"}, \"line\": {\"color\": \"white\"}}, \"header\": {\"fill\": {\"color\": \"#C8D4E3\"}, \"line\": {\"color\": \"white\"}}, \"type\": \"table\"}]}, \"layout\": {\"annotationdefaults\": {\"arrowcolor\": \"#2a3f5f\", \"arrowhead\": 0, \"arrowwidth\": 1}, \"colorscale\": {\"diverging\": [[0, \"#8e0152\"], [0.1, \"#c51b7d\"], [0.2, \"#de77ae\"], [0.3, \"#f1b6da\"], [0.4, \"#fde0ef\"], [0.5, \"#f7f7f7\"], [0.6, \"#e6f5d0\"], [0.7, \"#b8e186\"], [0.8, \"#7fbc41\"], [0.9, \"#4d9221\"], [1, \"#276419\"]], \"sequential\": [[0.0, \"#0d0887\"], [0.1111111111111111, \"#46039f\"], [0.2222222222222222, \"#7201a8\"], [0.3333333333333333, \"#9c179e\"], [0.4444444444444444, \"#bd3786\"], [0.5555555555555556, \"#d8576b\"], [0.6666666666666666, \"#ed7953\"], [0.7777777777777778, \"#fb9f3a\"], [0.8888888888888888, \"#fdca26\"], [1.0, \"#f0f921\"]], \"sequentialminus\": [[0.0, \"#0d0887\"], [0.1111111111111111, \"#46039f\"], [0.2222222222222222, \"#7201a8\"], [0.3333333333333333, \"#9c179e\"], [0.4444444444444444, \"#bd3786\"], [0.5555555555555556, \"#d8576b\"], [0.6666666666666666, \"#ed7953\"], [0.7777777777777778, \"#fb9f3a\"], [0.8888888888888888, \"#fdca26\"], [1.0, \"#f0f921\"]]}, \"colorway\": [\"#636efa\", \"#EF553B\", \"#00cc96\", \"#ab63fa\", \"#FFA15A\", \"#19d3f3\", \"#FF6692\", \"#B6E880\", \"#FF97FF\", \"#FECB52\"], \"font\": {\"color\": \"#2a3f5f\"}, \"geo\": {\"bgcolor\": \"white\", \"lakecolor\": \"white\", \"landcolor\": \"#E5ECF6\", \"showlakes\": true, \"showland\": true, \"subunitcolor\": \"white\"}, \"hoverlabel\": {\"align\": \"left\"}, \"hovermode\": \"closest\", \"mapbox\": {\"style\": \"light\"}, \"paper_bgcolor\": \"white\", \"plot_bgcolor\": \"#E5ECF6\", \"polar\": {\"angularaxis\": {\"gridcolor\": \"white\", \"linecolor\": \"white\", \"ticks\": \"\"}, \"bgcolor\": \"#E5ECF6\", \"radialaxis\": {\"gridcolor\": \"white\", \"linecolor\": \"white\", \"ticks\": \"\"}}, \"scene\": {\"xaxis\": {\"backgroundcolor\": \"#E5ECF6\", \"gridcolor\": \"white\", \"gridwidth\": 2, \"linecolor\": \"white\", \"showbackground\": true, \"ticks\": \"\", \"zerolinecolor\": \"white\"}, \"yaxis\": {\"backgroundcolor\": \"#E5ECF6\", \"gridcolor\": \"white\", \"gridwidth\": 2, \"linecolor\": \"white\", \"showbackground\": true, \"ticks\": \"\", \"zerolinecolor\": \"white\"}, \"zaxis\": {\"backgroundcolor\": \"#E5ECF6\", \"gridcolor\": \"white\", \"gridwidth\": 2, \"linecolor\": \"white\", \"showbackground\": true, \"ticks\": \"\", \"zerolinecolor\": \"white\"}}, \"shapedefaults\": {\"line\": {\"color\": \"#2a3f5f\"}}, \"ternary\": {\"aaxis\": {\"gridcolor\": \"white\", \"linecolor\": \"white\", \"ticks\": \"\"}, \"baxis\": {\"gridcolor\": \"white\", \"linecolor\": \"white\", \"ticks\": \"\"}, \"bgcolor\": \"#E5ECF6\", \"caxis\": {\"gridcolor\": \"white\", \"linecolor\": \"white\", \"ticks\": \"\"}}, \"title\": {\"x\": 0.05}, \"xaxis\": {\"automargin\": true, \"gridcolor\": \"white\", \"linecolor\": \"white\", \"ticks\": \"\", \"zerolinecolor\": \"white\", \"zerolinewidth\": 2}, \"yaxis\": {\"automargin\": true, \"gridcolor\": \"white\", \"linecolor\": \"white\", \"ticks\": \"\", \"zerolinecolor\": \"white\", \"zerolinewidth\": 2}}}, \"title\": {\"text\": \"Cumsum of explained variance\"}, \"xaxis\": {\"title\": {\"text\": \"Number of principal components\"}}, \"yaxis\": {\"title\": {\"text\": \"Explained variance (%)\"}}},\n",
       "                        {\"responsive\": true}\n",
       "                    ).then(function(){\n",
       "                            \n",
       "var gd = document.getElementById('7fb704b7-83dd-4a1d-ba9e-b89e6c31f870');\n",
       "var x = new MutationObserver(function (mutations, observer) {{\n",
       "        var display = window.getComputedStyle(gd).display;\n",
       "        if (!display || display === 'none') {{\n",
       "            console.log([gd, 'removed!']);\n",
       "            Plotly.purge(gd);\n",
       "            observer.disconnect();\n",
       "        }}\n",
       "}});\n",
       "\n",
       "// Listen for the removal of the full notebook cells\n",
       "var notebookContainer = gd.closest('#notebook-container');\n",
       "if (notebookContainer) {{\n",
       "    x.observe(notebookContainer, {childList: true});\n",
       "}}\n",
       "\n",
       "// Listen for the clearing of the current output cell\n",
       "var outputEl = gd.closest('.output');\n",
       "if (outputEl) {{\n",
       "    x.observe(outputEl, {childList: true});\n",
       "}}\n",
       "\n",
       "                        })\n",
       "                };\n",
       "                });\n",
       "            </script>\n",
       "        </div>"
      ]
     },
     "metadata": {},
     "output_type": "display_data"
    }
   ],
   "source": [
    "data = [go.Scatter(x = df_ranked.index+1, y = np.cumsum(df_ranked['percent_explained_var']), name = 'cumsum')]\n",
    "layout = go.Layout(title = 'Cumsum of explained variance',\n",
    "                   yaxis = dict(title = 'Explained variance (%)'),\n",
    "                   xaxis = dict(title = 'Number of principal components'))\n",
    "fig = go.Figure(data = data, layout = layout)\n",
    "pyo.iplot(fig, config=dict(showLink = False))"
   ]
  },
  {
   "cell_type": "markdown",
   "metadata": {},
   "source": [
    "The threshold chosen by _Belisário et al._ was 55%, without any explanations presented. Therefore the number of PC's selected for the model is 11."
   ]
  },
  {
   "cell_type": "markdown",
   "metadata": {},
   "source": [
    "### 7. Reduction of dimentionalities"
   ]
  },
  {
   "cell_type": "code",
   "execution_count": 12,
   "metadata": {},
   "outputs": [
    {
     "data": {
      "text/html": [
       "<div>\n",
       "<style scoped>\n",
       "    .dataframe tbody tr th:only-of-type {\n",
       "        vertical-align: middle;\n",
       "    }\n",
       "\n",
       "    .dataframe tbody tr th {\n",
       "        vertical-align: top;\n",
       "    }\n",
       "\n",
       "    .dataframe thead th {\n",
       "        text-align: right;\n",
       "    }\n",
       "</style>\n",
       "<table border=\"1\" class=\"dataframe\">\n",
       "  <thead>\n",
       "    <tr style=\"text-align: right;\">\n",
       "      <th></th>\n",
       "      <th>0</th>\n",
       "      <th>1</th>\n",
       "      <th>2</th>\n",
       "      <th>3</th>\n",
       "      <th>4</th>\n",
       "      <th>5</th>\n",
       "      <th>6</th>\n",
       "      <th>7</th>\n",
       "      <th>8</th>\n",
       "      <th>9</th>\n",
       "      <th>...</th>\n",
       "      <th>42</th>\n",
       "      <th>43</th>\n",
       "      <th>44</th>\n",
       "      <th>45</th>\n",
       "      <th>46</th>\n",
       "      <th>47</th>\n",
       "      <th>48</th>\n",
       "      <th>49</th>\n",
       "      <th>50</th>\n",
       "      <th>51</th>\n",
       "    </tr>\n",
       "  </thead>\n",
       "  <tbody>\n",
       "    <tr>\n",
       "      <th>0</th>\n",
       "      <td>-0.113397</td>\n",
       "      <td>-0.158270</td>\n",
       "      <td>0.216763</td>\n",
       "      <td>-0.142510</td>\n",
       "      <td>-0.391054</td>\n",
       "      <td>0.294943</td>\n",
       "      <td>-0.049004</td>\n",
       "      <td>0.006120</td>\n",
       "      <td>-0.043989</td>\n",
       "      <td>0.019978</td>\n",
       "      <td>...</td>\n",
       "      <td>0.013713</td>\n",
       "      <td>-0.003096</td>\n",
       "      <td>0.031851</td>\n",
       "      <td>0.042268</td>\n",
       "      <td>0.039804</td>\n",
       "      <td>0.702271</td>\n",
       "      <td>0.046386</td>\n",
       "      <td>-0.001767</td>\n",
       "      <td>1.529373e-04</td>\n",
       "      <td>-2.894070e-05</td>\n",
       "    </tr>\n",
       "    <tr>\n",
       "      <th>1</th>\n",
       "      <td>-0.003605</td>\n",
       "      <td>0.102622</td>\n",
       "      <td>0.346324</td>\n",
       "      <td>0.030183</td>\n",
       "      <td>0.135655</td>\n",
       "      <td>-0.191752</td>\n",
       "      <td>0.063509</td>\n",
       "      <td>-0.070879</td>\n",
       "      <td>-0.147936</td>\n",
       "      <td>0.143243</td>\n",
       "      <td>...</td>\n",
       "      <td>0.001742</td>\n",
       "      <td>0.006880</td>\n",
       "      <td>-0.012905</td>\n",
       "      <td>0.001092</td>\n",
       "      <td>-0.011134</td>\n",
       "      <td>0.001240</td>\n",
       "      <td>0.000771</td>\n",
       "      <td>0.000094</td>\n",
       "      <td>-6.393235e-06</td>\n",
       "      <td>4.303883e-08</td>\n",
       "    </tr>\n",
       "    <tr>\n",
       "      <th>2</th>\n",
       "      <td>0.128755</td>\n",
       "      <td>0.032141</td>\n",
       "      <td>-0.018058</td>\n",
       "      <td>0.088915</td>\n",
       "      <td>0.059560</td>\n",
       "      <td>-0.028122</td>\n",
       "      <td>-0.040051</td>\n",
       "      <td>-0.093088</td>\n",
       "      <td>-0.189385</td>\n",
       "      <td>-0.262861</td>\n",
       "      <td>...</td>\n",
       "      <td>0.006527</td>\n",
       "      <td>0.002914</td>\n",
       "      <td>-0.002069</td>\n",
       "      <td>0.005415</td>\n",
       "      <td>0.001803</td>\n",
       "      <td>-0.001659</td>\n",
       "      <td>0.004537</td>\n",
       "      <td>-0.000527</td>\n",
       "      <td>-4.322315e-06</td>\n",
       "      <td>3.861478e-06</td>\n",
       "    </tr>\n",
       "    <tr>\n",
       "      <th>3</th>\n",
       "      <td>0.031727</td>\n",
       "      <td>0.116225</td>\n",
       "      <td>-0.005330</td>\n",
       "      <td>-0.024818</td>\n",
       "      <td>-0.030561</td>\n",
       "      <td>0.034087</td>\n",
       "      <td>0.025684</td>\n",
       "      <td>0.069515</td>\n",
       "      <td>0.300379</td>\n",
       "      <td>0.427409</td>\n",
       "      <td>...</td>\n",
       "      <td>0.046128</td>\n",
       "      <td>0.004319</td>\n",
       "      <td>0.010757</td>\n",
       "      <td>0.005290</td>\n",
       "      <td>-0.011082</td>\n",
       "      <td>-0.001560</td>\n",
       "      <td>-0.000622</td>\n",
       "      <td>0.002430</td>\n",
       "      <td>1.109424e-05</td>\n",
       "      <td>1.158008e-05</td>\n",
       "    </tr>\n",
       "    <tr>\n",
       "      <th>4</th>\n",
       "      <td>0.005752</td>\n",
       "      <td>0.015313</td>\n",
       "      <td>-0.026937</td>\n",
       "      <td>0.053273</td>\n",
       "      <td>-0.004758</td>\n",
       "      <td>0.124798</td>\n",
       "      <td>0.045853</td>\n",
       "      <td>0.006963</td>\n",
       "      <td>0.038114</td>\n",
       "      <td>-0.037407</td>\n",
       "      <td>...</td>\n",
       "      <td>-0.131572</td>\n",
       "      <td>0.012935</td>\n",
       "      <td>-0.022296</td>\n",
       "      <td>0.025389</td>\n",
       "      <td>-0.040155</td>\n",
       "      <td>0.000813</td>\n",
       "      <td>-0.006098</td>\n",
       "      <td>0.000449</td>\n",
       "      <td>8.892340e-06</td>\n",
       "      <td>-1.536388e-06</td>\n",
       "    </tr>\n",
       "    <tr>\n",
       "      <th>5</th>\n",
       "      <td>-0.030016</td>\n",
       "      <td>0.056590</td>\n",
       "      <td>0.049124</td>\n",
       "      <td>-0.004817</td>\n",
       "      <td>-0.039855</td>\n",
       "      <td>0.024390</td>\n",
       "      <td>-0.017791</td>\n",
       "      <td>-0.043392</td>\n",
       "      <td>-0.053733</td>\n",
       "      <td>0.330239</td>\n",
       "      <td>...</td>\n",
       "      <td>0.026899</td>\n",
       "      <td>-0.008642</td>\n",
       "      <td>-0.005848</td>\n",
       "      <td>-0.001637</td>\n",
       "      <td>-0.004218</td>\n",
       "      <td>0.001618</td>\n",
       "      <td>0.002418</td>\n",
       "      <td>0.000140</td>\n",
       "      <td>-1.012712e-06</td>\n",
       "      <td>-3.742255e-06</td>\n",
       "    </tr>\n",
       "    <tr>\n",
       "      <th>6</th>\n",
       "      <td>0.336565</td>\n",
       "      <td>0.052548</td>\n",
       "      <td>0.070066</td>\n",
       "      <td>-0.019121</td>\n",
       "      <td>-0.122175</td>\n",
       "      <td>0.082373</td>\n",
       "      <td>-0.041575</td>\n",
       "      <td>-0.038586</td>\n",
       "      <td>0.090399</td>\n",
       "      <td>-0.033175</td>\n",
       "      <td>...</td>\n",
       "      <td>-0.002911</td>\n",
       "      <td>0.007765</td>\n",
       "      <td>-0.052337</td>\n",
       "      <td>0.142439</td>\n",
       "      <td>-0.363168</td>\n",
       "      <td>-0.031926</td>\n",
       "      <td>0.737393</td>\n",
       "      <td>-0.001912</td>\n",
       "      <td>1.184929e-04</td>\n",
       "      <td>-4.794598e-05</td>\n",
       "    </tr>\n",
       "    <tr>\n",
       "      <th>7</th>\n",
       "      <td>0.061668</td>\n",
       "      <td>-0.064813</td>\n",
       "      <td>-0.003977</td>\n",
       "      <td>-0.013424</td>\n",
       "      <td>0.053433</td>\n",
       "      <td>0.043172</td>\n",
       "      <td>0.030415</td>\n",
       "      <td>-0.025382</td>\n",
       "      <td>-0.234936</td>\n",
       "      <td>-0.159169</td>\n",
       "      <td>...</td>\n",
       "      <td>-0.010027</td>\n",
       "      <td>0.001781</td>\n",
       "      <td>-0.002486</td>\n",
       "      <td>-0.001833</td>\n",
       "      <td>0.002000</td>\n",
       "      <td>0.001336</td>\n",
       "      <td>0.002854</td>\n",
       "      <td>-0.000249</td>\n",
       "      <td>-6.411855e-06</td>\n",
       "      <td>-4.171133e-06</td>\n",
       "    </tr>\n",
       "    <tr>\n",
       "      <th>8</th>\n",
       "      <td>0.006853</td>\n",
       "      <td>0.064834</td>\n",
       "      <td>0.419097</td>\n",
       "      <td>0.001538</td>\n",
       "      <td>0.044391</td>\n",
       "      <td>-0.106101</td>\n",
       "      <td>0.030325</td>\n",
       "      <td>-0.026737</td>\n",
       "      <td>0.099330</td>\n",
       "      <td>-0.136968</td>\n",
       "      <td>...</td>\n",
       "      <td>-0.005034</td>\n",
       "      <td>-0.014520</td>\n",
       "      <td>0.007147</td>\n",
       "      <td>-0.001912</td>\n",
       "      <td>0.002093</td>\n",
       "      <td>-0.000529</td>\n",
       "      <td>-0.002067</td>\n",
       "      <td>-0.001371</td>\n",
       "      <td>8.146497e-06</td>\n",
       "      <td>-1.002729e-05</td>\n",
       "    </tr>\n",
       "    <tr>\n",
       "      <th>9</th>\n",
       "      <td>-0.153895</td>\n",
       "      <td>0.075754</td>\n",
       "      <td>-0.054812</td>\n",
       "      <td>0.140963</td>\n",
       "      <td>-0.100421</td>\n",
       "      <td>-0.109384</td>\n",
       "      <td>-0.102611</td>\n",
       "      <td>-0.591808</td>\n",
       "      <td>0.086880</td>\n",
       "      <td>0.075783</td>\n",
       "      <td>...</td>\n",
       "      <td>-0.081410</td>\n",
       "      <td>-0.694586</td>\n",
       "      <td>-0.028076</td>\n",
       "      <td>0.009604</td>\n",
       "      <td>0.007958</td>\n",
       "      <td>0.000430</td>\n",
       "      <td>-0.003614</td>\n",
       "      <td>0.000676</td>\n",
       "      <td>1.341722e-05</td>\n",
       "      <td>3.492855e-05</td>\n",
       "    </tr>\n",
       "    <tr>\n",
       "      <th>10</th>\n",
       "      <td>-0.229298</td>\n",
       "      <td>0.012026</td>\n",
       "      <td>0.145129</td>\n",
       "      <td>0.038634</td>\n",
       "      <td>0.099890</td>\n",
       "      <td>-0.052588</td>\n",
       "      <td>0.051725</td>\n",
       "      <td>0.081701</td>\n",
       "      <td>0.329335</td>\n",
       "      <td>-0.203107</td>\n",
       "      <td>...</td>\n",
       "      <td>-0.071799</td>\n",
       "      <td>-0.012775</td>\n",
       "      <td>-0.150666</td>\n",
       "      <td>0.077560</td>\n",
       "      <td>0.051395</td>\n",
       "      <td>-0.003415</td>\n",
       "      <td>0.004756</td>\n",
       "      <td>0.002643</td>\n",
       "      <td>-3.752830e-06</td>\n",
       "      <td>-6.176901e-06</td>\n",
       "    </tr>\n",
       "    <tr>\n",
       "      <th>11</th>\n",
       "      <td>0.013374</td>\n",
       "      <td>-0.006673</td>\n",
       "      <td>-0.086710</td>\n",
       "      <td>0.103225</td>\n",
       "      <td>-0.431676</td>\n",
       "      <td>-0.430410</td>\n",
       "      <td>0.268965</td>\n",
       "      <td>0.151109</td>\n",
       "      <td>-0.036196</td>\n",
       "      <td>0.013552</td>\n",
       "      <td>...</td>\n",
       "      <td>-0.005559</td>\n",
       "      <td>-0.001767</td>\n",
       "      <td>-0.001427</td>\n",
       "      <td>-0.000868</td>\n",
       "      <td>0.000509</td>\n",
       "      <td>0.000439</td>\n",
       "      <td>-0.000051</td>\n",
       "      <td>0.000184</td>\n",
       "      <td>6.980993e-01</td>\n",
       "      <td>1.125044e-01</td>\n",
       "    </tr>\n",
       "    <tr>\n",
       "      <th>12</th>\n",
       "      <td>0.334874</td>\n",
       "      <td>0.070404</td>\n",
       "      <td>0.070845</td>\n",
       "      <td>-0.019496</td>\n",
       "      <td>-0.121103</td>\n",
       "      <td>0.082188</td>\n",
       "      <td>-0.041234</td>\n",
       "      <td>-0.030123</td>\n",
       "      <td>0.097611</td>\n",
       "      <td>-0.039844</td>\n",
       "      <td>...</td>\n",
       "      <td>0.039401</td>\n",
       "      <td>0.002649</td>\n",
       "      <td>-0.035565</td>\n",
       "      <td>0.106195</td>\n",
       "      <td>-0.504771</td>\n",
       "      <td>0.070989</td>\n",
       "      <td>-0.663460</td>\n",
       "      <td>-0.004841</td>\n",
       "      <td>-5.411528e-05</td>\n",
       "      <td>4.571341e-06</td>\n",
       "    </tr>\n",
       "    <tr>\n",
       "      <th>13</th>\n",
       "      <td>-0.024021</td>\n",
       "      <td>-0.031780</td>\n",
       "      <td>0.016582</td>\n",
       "      <td>0.077266</td>\n",
       "      <td>-0.016748</td>\n",
       "      <td>0.088530</td>\n",
       "      <td>-0.047569</td>\n",
       "      <td>-0.029007</td>\n",
       "      <td>-0.186910</td>\n",
       "      <td>0.002035</td>\n",
       "      <td>...</td>\n",
       "      <td>-0.012255</td>\n",
       "      <td>0.012601</td>\n",
       "      <td>-0.000747</td>\n",
       "      <td>-0.004642</td>\n",
       "      <td>-0.004510</td>\n",
       "      <td>-0.002180</td>\n",
       "      <td>-0.000453</td>\n",
       "      <td>0.000096</td>\n",
       "      <td>3.286101e-06</td>\n",
       "      <td>-7.957800e-06</td>\n",
       "    </tr>\n",
       "    <tr>\n",
       "      <th>14</th>\n",
       "      <td>-0.008703</td>\n",
       "      <td>0.029747</td>\n",
       "      <td>-0.051667</td>\n",
       "      <td>-0.490150</td>\n",
       "      <td>0.069127</td>\n",
       "      <td>0.027733</td>\n",
       "      <td>0.433380</td>\n",
       "      <td>-0.209843</td>\n",
       "      <td>-0.014764</td>\n",
       "      <td>-0.038522</td>\n",
       "      <td>...</td>\n",
       "      <td>-0.003315</td>\n",
       "      <td>0.006448</td>\n",
       "      <td>0.000480</td>\n",
       "      <td>0.000173</td>\n",
       "      <td>-0.001652</td>\n",
       "      <td>-0.000582</td>\n",
       "      <td>-0.000566</td>\n",
       "      <td>0.000228</td>\n",
       "      <td>-1.125175e-01</td>\n",
       "      <td>6.980959e-01</td>\n",
       "    </tr>\n",
       "    <tr>\n",
       "      <th>15</th>\n",
       "      <td>0.323954</td>\n",
       "      <td>-0.033303</td>\n",
       "      <td>0.130845</td>\n",
       "      <td>-0.011294</td>\n",
       "      <td>-0.111464</td>\n",
       "      <td>0.068326</td>\n",
       "      <td>-0.035478</td>\n",
       "      <td>-0.068396</td>\n",
       "      <td>0.064380</td>\n",
       "      <td>-0.025170</td>\n",
       "      <td>...</td>\n",
       "      <td>-0.084814</td>\n",
       "      <td>0.023886</td>\n",
       "      <td>0.125462</td>\n",
       "      <td>-0.223522</td>\n",
       "      <td>0.674609</td>\n",
       "      <td>-0.029819</td>\n",
       "      <td>-0.082270</td>\n",
       "      <td>0.011591</td>\n",
       "      <td>-5.293486e-05</td>\n",
       "      <td>1.348944e-06</td>\n",
       "    </tr>\n",
       "    <tr>\n",
       "      <th>16</th>\n",
       "      <td>-0.010546</td>\n",
       "      <td>-0.026160</td>\n",
       "      <td>-0.053764</td>\n",
       "      <td>-0.425989</td>\n",
       "      <td>-0.050409</td>\n",
       "      <td>-0.296150</td>\n",
       "      <td>-0.452217</td>\n",
       "      <td>0.036346</td>\n",
       "      <td>-0.005586</td>\n",
       "      <td>-0.005800</td>\n",
       "      <td>...</td>\n",
       "      <td>0.017903</td>\n",
       "      <td>0.004765</td>\n",
       "      <td>-0.030393</td>\n",
       "      <td>0.045083</td>\n",
       "      <td>0.009194</td>\n",
       "      <td>-0.003117</td>\n",
       "      <td>-0.004043</td>\n",
       "      <td>0.705027</td>\n",
       "      <td>-6.087471e-05</td>\n",
       "      <td>-1.879295e-04</td>\n",
       "    </tr>\n",
       "    <tr>\n",
       "      <th>17</th>\n",
       "      <td>-0.258250</td>\n",
       "      <td>0.279707</td>\n",
       "      <td>-0.028544</td>\n",
       "      <td>0.000225</td>\n",
       "      <td>-0.082243</td>\n",
       "      <td>0.080166</td>\n",
       "      <td>-0.031253</td>\n",
       "      <td>0.030130</td>\n",
       "      <td>-0.131021</td>\n",
       "      <td>-0.077911</td>\n",
       "      <td>...</td>\n",
       "      <td>-0.105604</td>\n",
       "      <td>-0.009948</td>\n",
       "      <td>0.599619</td>\n",
       "      <td>-0.515373</td>\n",
       "      <td>-0.259574</td>\n",
       "      <td>0.020478</td>\n",
       "      <td>0.047225</td>\n",
       "      <td>0.064677</td>\n",
       "      <td>-7.193040e-05</td>\n",
       "      <td>-5.339196e-05</td>\n",
       "    </tr>\n",
       "    <tr>\n",
       "      <th>18</th>\n",
       "      <td>-0.213446</td>\n",
       "      <td>0.292318</td>\n",
       "      <td>-0.022624</td>\n",
       "      <td>-0.013479</td>\n",
       "      <td>-0.157932</td>\n",
       "      <td>0.126511</td>\n",
       "      <td>-0.046067</td>\n",
       "      <td>0.008413</td>\n",
       "      <td>-0.174570</td>\n",
       "      <td>-0.070786</td>\n",
       "      <td>...</td>\n",
       "      <td>0.120544</td>\n",
       "      <td>0.018869</td>\n",
       "      <td>-0.713773</td>\n",
       "      <td>-0.286135</td>\n",
       "      <td>0.021056</td>\n",
       "      <td>0.045484</td>\n",
       "      <td>0.001589</td>\n",
       "      <td>-0.017200</td>\n",
       "      <td>-4.782732e-05</td>\n",
       "      <td>-3.557034e-05</td>\n",
       "    </tr>\n",
       "    <tr>\n",
       "      <th>19</th>\n",
       "      <td>0.162278</td>\n",
       "      <td>0.362472</td>\n",
       "      <td>-0.077556</td>\n",
       "      <td>-0.040318</td>\n",
       "      <td>-0.105443</td>\n",
       "      <td>0.089381</td>\n",
       "      <td>-0.047150</td>\n",
       "      <td>0.045670</td>\n",
       "      <td>0.012619</td>\n",
       "      <td>0.044435</td>\n",
       "      <td>...</td>\n",
       "      <td>-0.724550</td>\n",
       "      <td>0.122430</td>\n",
       "      <td>-0.097968</td>\n",
       "      <td>0.014879</td>\n",
       "      <td>0.103668</td>\n",
       "      <td>0.001041</td>\n",
       "      <td>-0.014707</td>\n",
       "      <td>0.013066</td>\n",
       "      <td>-1.388717e-05</td>\n",
       "      <td>-1.480630e-05</td>\n",
       "    </tr>\n",
       "    <tr>\n",
       "      <th>20</th>\n",
       "      <td>-0.027100</td>\n",
       "      <td>-0.209020</td>\n",
       "      <td>-0.396652</td>\n",
       "      <td>0.040125</td>\n",
       "      <td>0.005735</td>\n",
       "      <td>0.040793</td>\n",
       "      <td>-0.030851</td>\n",
       "      <td>-0.039111</td>\n",
       "      <td>0.049080</td>\n",
       "      <td>-0.064935</td>\n",
       "      <td>...</td>\n",
       "      <td>-0.075842</td>\n",
       "      <td>0.018561</td>\n",
       "      <td>-0.003675</td>\n",
       "      <td>-0.001529</td>\n",
       "      <td>0.011708</td>\n",
       "      <td>-0.003793</td>\n",
       "      <td>-0.008272</td>\n",
       "      <td>-0.001855</td>\n",
       "      <td>-1.028836e-05</td>\n",
       "      <td>-4.382547e-06</td>\n",
       "    </tr>\n",
       "    <tr>\n",
       "      <th>21</th>\n",
       "      <td>-0.051565</td>\n",
       "      <td>0.125501</td>\n",
       "      <td>0.133075</td>\n",
       "      <td>0.010867</td>\n",
       "      <td>-0.026457</td>\n",
       "      <td>-0.024809</td>\n",
       "      <td>0.012824</td>\n",
       "      <td>0.004787</td>\n",
       "      <td>0.536461</td>\n",
       "      <td>-0.248328</td>\n",
       "      <td>...</td>\n",
       "      <td>-0.059224</td>\n",
       "      <td>0.025555</td>\n",
       "      <td>0.050705</td>\n",
       "      <td>-0.030885</td>\n",
       "      <td>0.000755</td>\n",
       "      <td>-0.000705</td>\n",
       "      <td>0.004084</td>\n",
       "      <td>0.010032</td>\n",
       "      <td>-4.961257e-07</td>\n",
       "      <td>-6.573933e-06</td>\n",
       "    </tr>\n",
       "    <tr>\n",
       "      <th>22</th>\n",
       "      <td>0.011476</td>\n",
       "      <td>0.237150</td>\n",
       "      <td>-0.083630</td>\n",
       "      <td>-0.058431</td>\n",
       "      <td>-0.001444</td>\n",
       "      <td>0.042735</td>\n",
       "      <td>0.033658</td>\n",
       "      <td>-0.008422</td>\n",
       "      <td>0.019563</td>\n",
       "      <td>0.037940</td>\n",
       "      <td>...</td>\n",
       "      <td>0.047567</td>\n",
       "      <td>0.010925</td>\n",
       "      <td>0.002426</td>\n",
       "      <td>0.007846</td>\n",
       "      <td>0.000346</td>\n",
       "      <td>-0.002267</td>\n",
       "      <td>-0.000077</td>\n",
       "      <td>0.000292</td>\n",
       "      <td>-7.852094e-06</td>\n",
       "      <td>-2.270453e-06</td>\n",
       "    </tr>\n",
       "    <tr>\n",
       "      <th>23</th>\n",
       "      <td>-0.092800</td>\n",
       "      <td>-0.016466</td>\n",
       "      <td>0.086363</td>\n",
       "      <td>-0.049441</td>\n",
       "      <td>-0.094783</td>\n",
       "      <td>-0.058335</td>\n",
       "      <td>-0.030054</td>\n",
       "      <td>-0.084114</td>\n",
       "      <td>0.073931</td>\n",
       "      <td>-0.140990</td>\n",
       "      <td>...</td>\n",
       "      <td>-0.008448</td>\n",
       "      <td>0.006075</td>\n",
       "      <td>-0.000240</td>\n",
       "      <td>-0.003871</td>\n",
       "      <td>0.000196</td>\n",
       "      <td>0.001135</td>\n",
       "      <td>0.001586</td>\n",
       "      <td>-0.000897</td>\n",
       "      <td>-3.875222e-06</td>\n",
       "      <td>5.981312e-06</td>\n",
       "    </tr>\n",
       "    <tr>\n",
       "      <th>24</th>\n",
       "      <td>0.214996</td>\n",
       "      <td>-0.066058</td>\n",
       "      <td>0.033997</td>\n",
       "      <td>0.014073</td>\n",
       "      <td>-0.023391</td>\n",
       "      <td>-0.051853</td>\n",
       "      <td>-0.029177</td>\n",
       "      <td>-0.160029</td>\n",
       "      <td>-0.084265</td>\n",
       "      <td>-0.034805</td>\n",
       "      <td>...</td>\n",
       "      <td>-0.008613</td>\n",
       "      <td>0.003413</td>\n",
       "      <td>0.003317</td>\n",
       "      <td>0.001783</td>\n",
       "      <td>0.005314</td>\n",
       "      <td>-0.002889</td>\n",
       "      <td>-0.001093</td>\n",
       "      <td>0.000108</td>\n",
       "      <td>7.161788e-07</td>\n",
       "      <td>4.636658e-06</td>\n",
       "    </tr>\n",
       "    <tr>\n",
       "      <th>25</th>\n",
       "      <td>-0.024535</td>\n",
       "      <td>-0.036842</td>\n",
       "      <td>0.010154</td>\n",
       "      <td>-0.033943</td>\n",
       "      <td>0.156673</td>\n",
       "      <td>-0.092454</td>\n",
       "      <td>0.021289</td>\n",
       "      <td>0.080233</td>\n",
       "      <td>-0.080103</td>\n",
       "      <td>-0.016606</td>\n",
       "      <td>...</td>\n",
       "      <td>-0.013994</td>\n",
       "      <td>-0.016416</td>\n",
       "      <td>0.002667</td>\n",
       "      <td>-0.006627</td>\n",
       "      <td>0.000772</td>\n",
       "      <td>-0.000208</td>\n",
       "      <td>-0.002397</td>\n",
       "      <td>-0.000317</td>\n",
       "      <td>-1.260923e-05</td>\n",
       "      <td>1.335325e-07</td>\n",
       "    </tr>\n",
       "    <tr>\n",
       "      <th>26</th>\n",
       "      <td>-0.140277</td>\n",
       "      <td>-0.158419</td>\n",
       "      <td>0.078041</td>\n",
       "      <td>-0.022559</td>\n",
       "      <td>-0.028478</td>\n",
       "      <td>0.014928</td>\n",
       "      <td>0.039239</td>\n",
       "      <td>0.030038</td>\n",
       "      <td>-0.000371</td>\n",
       "      <td>-0.070181</td>\n",
       "      <td>...</td>\n",
       "      <td>-0.000254</td>\n",
       "      <td>0.003711</td>\n",
       "      <td>0.008676</td>\n",
       "      <td>-0.001386</td>\n",
       "      <td>-0.004345</td>\n",
       "      <td>-0.001410</td>\n",
       "      <td>0.000584</td>\n",
       "      <td>-0.000545</td>\n",
       "      <td>-3.668014e-07</td>\n",
       "      <td>-7.479993e-06</td>\n",
       "    </tr>\n",
       "    <tr>\n",
       "      <th>27</th>\n",
       "      <td>-0.056206</td>\n",
       "      <td>-0.025590</td>\n",
       "      <td>-0.020187</td>\n",
       "      <td>-0.068859</td>\n",
       "      <td>-0.016736</td>\n",
       "      <td>0.072646</td>\n",
       "      <td>-0.025178</td>\n",
       "      <td>0.103112</td>\n",
       "      <td>0.122109</td>\n",
       "      <td>-0.094339</td>\n",
       "      <td>...</td>\n",
       "      <td>-0.002625</td>\n",
       "      <td>0.003084</td>\n",
       "      <td>-0.005909</td>\n",
       "      <td>0.000654</td>\n",
       "      <td>0.003730</td>\n",
       "      <td>-0.002042</td>\n",
       "      <td>-0.000444</td>\n",
       "      <td>0.000128</td>\n",
       "      <td>2.213303e-06</td>\n",
       "      <td>9.766977e-06</td>\n",
       "    </tr>\n",
       "    <tr>\n",
       "      <th>28</th>\n",
       "      <td>0.023184</td>\n",
       "      <td>0.321958</td>\n",
       "      <td>-0.075395</td>\n",
       "      <td>-0.000118</td>\n",
       "      <td>-0.004994</td>\n",
       "      <td>-0.021912</td>\n",
       "      <td>0.014087</td>\n",
       "      <td>0.039348</td>\n",
       "      <td>0.023678</td>\n",
       "      <td>-0.065271</td>\n",
       "      <td>...</td>\n",
       "      <td>0.064494</td>\n",
       "      <td>-0.003278</td>\n",
       "      <td>-0.002462</td>\n",
       "      <td>0.000916</td>\n",
       "      <td>-0.001619</td>\n",
       "      <td>-0.000835</td>\n",
       "      <td>-0.003290</td>\n",
       "      <td>0.001019</td>\n",
       "      <td>6.608730e-06</td>\n",
       "      <td>-3.773522e-06</td>\n",
       "    </tr>\n",
       "    <tr>\n",
       "      <th>29</th>\n",
       "      <td>-0.102795</td>\n",
       "      <td>-0.021755</td>\n",
       "      <td>-0.001932</td>\n",
       "      <td>0.017804</td>\n",
       "      <td>-0.116705</td>\n",
       "      <td>0.019165</td>\n",
       "      <td>-0.040521</td>\n",
       "      <td>0.012382</td>\n",
       "      <td>-0.028225</td>\n",
       "      <td>-0.281131</td>\n",
       "      <td>...</td>\n",
       "      <td>-0.006027</td>\n",
       "      <td>0.001805</td>\n",
       "      <td>-0.007065</td>\n",
       "      <td>0.002676</td>\n",
       "      <td>-0.004451</td>\n",
       "      <td>0.000846</td>\n",
       "      <td>-0.001518</td>\n",
       "      <td>-0.001827</td>\n",
       "      <td>6.042030e-06</td>\n",
       "      <td>6.510723e-06</td>\n",
       "    </tr>\n",
       "    <tr>\n",
       "      <th>30</th>\n",
       "      <td>0.249229</td>\n",
       "      <td>-0.145709</td>\n",
       "      <td>0.024044</td>\n",
       "      <td>0.019518</td>\n",
       "      <td>-0.060849</td>\n",
       "      <td>0.009931</td>\n",
       "      <td>0.005976</td>\n",
       "      <td>-0.131173</td>\n",
       "      <td>-0.010627</td>\n",
       "      <td>0.035907</td>\n",
       "      <td>...</td>\n",
       "      <td>-0.037133</td>\n",
       "      <td>0.005603</td>\n",
       "      <td>0.003185</td>\n",
       "      <td>-0.003654</td>\n",
       "      <td>0.002059</td>\n",
       "      <td>0.000496</td>\n",
       "      <td>0.000740</td>\n",
       "      <td>0.000708</td>\n",
       "      <td>-1.429629e-05</td>\n",
       "      <td>-1.833641e-05</td>\n",
       "    </tr>\n",
       "    <tr>\n",
       "      <th>31</th>\n",
       "      <td>-0.035249</td>\n",
       "      <td>-0.040635</td>\n",
       "      <td>-0.035228</td>\n",
       "      <td>0.032148</td>\n",
       "      <td>0.078190</td>\n",
       "      <td>-0.083769</td>\n",
       "      <td>0.074884</td>\n",
       "      <td>0.027014</td>\n",
       "      <td>0.029508</td>\n",
       "      <td>-0.184647</td>\n",
       "      <td>...</td>\n",
       "      <td>0.012825</td>\n",
       "      <td>-0.007277</td>\n",
       "      <td>0.006949</td>\n",
       "      <td>0.001436</td>\n",
       "      <td>-0.000344</td>\n",
       "      <td>0.001282</td>\n",
       "      <td>-0.000745</td>\n",
       "      <td>0.000260</td>\n",
       "      <td>-7.260206e-06</td>\n",
       "      <td>-7.106627e-06</td>\n",
       "    </tr>\n",
       "    <tr>\n",
       "      <th>32</th>\n",
       "      <td>-0.176368</td>\n",
       "      <td>-0.158035</td>\n",
       "      <td>0.089940</td>\n",
       "      <td>0.010720</td>\n",
       "      <td>-0.018215</td>\n",
       "      <td>0.042207</td>\n",
       "      <td>0.006552</td>\n",
       "      <td>0.010177</td>\n",
       "      <td>-0.012324</td>\n",
       "      <td>-0.064007</td>\n",
       "      <td>...</td>\n",
       "      <td>-0.014309</td>\n",
       "      <td>-0.012356</td>\n",
       "      <td>0.006601</td>\n",
       "      <td>-0.005212</td>\n",
       "      <td>-0.005940</td>\n",
       "      <td>0.003426</td>\n",
       "      <td>-0.000749</td>\n",
       "      <td>0.000861</td>\n",
       "      <td>-9.434332e-06</td>\n",
       "      <td>-1.491444e-06</td>\n",
       "    </tr>\n",
       "    <tr>\n",
       "      <th>34</th>\n",
       "      <td>-0.175300</td>\n",
       "      <td>0.014764</td>\n",
       "      <td>-0.042342</td>\n",
       "      <td>-0.031338</td>\n",
       "      <td>0.115705</td>\n",
       "      <td>-0.008285</td>\n",
       "      <td>0.024425</td>\n",
       "      <td>0.183257</td>\n",
       "      <td>0.074630</td>\n",
       "      <td>0.135627</td>\n",
       "      <td>...</td>\n",
       "      <td>0.018510</td>\n",
       "      <td>0.008826</td>\n",
       "      <td>-0.021094</td>\n",
       "      <td>0.016365</td>\n",
       "      <td>0.000409</td>\n",
       "      <td>0.001804</td>\n",
       "      <td>-0.002001</td>\n",
       "      <td>0.001968</td>\n",
       "      <td>3.061243e-06</td>\n",
       "      <td>-1.200673e-05</td>\n",
       "    </tr>\n",
       "    <tr>\n",
       "      <th>33</th>\n",
       "      <td>-0.096485</td>\n",
       "      <td>0.038945</td>\n",
       "      <td>-0.007055</td>\n",
       "      <td>-0.001088</td>\n",
       "      <td>0.018391</td>\n",
       "      <td>0.011493</td>\n",
       "      <td>-0.012623</td>\n",
       "      <td>0.000929</td>\n",
       "      <td>-0.025768</td>\n",
       "      <td>0.075182</td>\n",
       "      <td>...</td>\n",
       "      <td>0.009492</td>\n",
       "      <td>-0.007776</td>\n",
       "      <td>-0.002202</td>\n",
       "      <td>0.000696</td>\n",
       "      <td>0.000348</td>\n",
       "      <td>-0.003634</td>\n",
       "      <td>0.002490</td>\n",
       "      <td>-0.000007</td>\n",
       "      <td>-5.960255e-07</td>\n",
       "      <td>-7.341588e-06</td>\n",
       "    </tr>\n",
       "    <tr>\n",
       "      <th>35</th>\n",
       "      <td>-0.100214</td>\n",
       "      <td>-0.041792</td>\n",
       "      <td>-0.012856</td>\n",
       "      <td>0.044318</td>\n",
       "      <td>0.096983</td>\n",
       "      <td>-0.031951</td>\n",
       "      <td>-0.012950</td>\n",
       "      <td>0.116929</td>\n",
       "      <td>0.007828</td>\n",
       "      <td>0.089711</td>\n",
       "      <td>...</td>\n",
       "      <td>0.014890</td>\n",
       "      <td>0.005513</td>\n",
       "      <td>-0.007126</td>\n",
       "      <td>-0.001000</td>\n",
       "      <td>0.002605</td>\n",
       "      <td>-0.001006</td>\n",
       "      <td>-0.001416</td>\n",
       "      <td>0.000549</td>\n",
       "      <td>-1.116022e-05</td>\n",
       "      <td>-6.575892e-06</td>\n",
       "    </tr>\n",
       "    <tr>\n",
       "      <th>36</th>\n",
       "      <td>-0.003269</td>\n",
       "      <td>-0.036192</td>\n",
       "      <td>-0.043853</td>\n",
       "      <td>-0.004419</td>\n",
       "      <td>-0.078346</td>\n",
       "      <td>-0.019324</td>\n",
       "      <td>0.004714</td>\n",
       "      <td>-0.088479</td>\n",
       "      <td>0.257582</td>\n",
       "      <td>-0.004339</td>\n",
       "      <td>...</td>\n",
       "      <td>-0.000022</td>\n",
       "      <td>-0.007378</td>\n",
       "      <td>0.009765</td>\n",
       "      <td>-0.006994</td>\n",
       "      <td>0.000926</td>\n",
       "      <td>0.000252</td>\n",
       "      <td>0.002296</td>\n",
       "      <td>0.002068</td>\n",
       "      <td>-1.404681e-05</td>\n",
       "      <td>-1.324409e-05</td>\n",
       "    </tr>\n",
       "    <tr>\n",
       "      <th>37</th>\n",
       "      <td>-0.019577</td>\n",
       "      <td>-0.306321</td>\n",
       "      <td>0.130294</td>\n",
       "      <td>-0.002507</td>\n",
       "      <td>-0.115470</td>\n",
       "      <td>0.040442</td>\n",
       "      <td>0.006640</td>\n",
       "      <td>-0.019968</td>\n",
       "      <td>0.005685</td>\n",
       "      <td>0.045685</td>\n",
       "      <td>...</td>\n",
       "      <td>-0.066479</td>\n",
       "      <td>0.014332</td>\n",
       "      <td>0.041396</td>\n",
       "      <td>-0.040716</td>\n",
       "      <td>-0.015367</td>\n",
       "      <td>-0.001493</td>\n",
       "      <td>0.002592</td>\n",
       "      <td>-0.004850</td>\n",
       "      <td>-8.456681e-06</td>\n",
       "      <td>-1.664352e-05</td>\n",
       "    </tr>\n",
       "    <tr>\n",
       "      <th>38</th>\n",
       "      <td>-0.004378</td>\n",
       "      <td>-0.024553</td>\n",
       "      <td>-0.014489</td>\n",
       "      <td>-0.051927</td>\n",
       "      <td>-0.088727</td>\n",
       "      <td>0.039154</td>\n",
       "      <td>0.005143</td>\n",
       "      <td>0.013327</td>\n",
       "      <td>0.018280</td>\n",
       "      <td>-0.074592</td>\n",
       "      <td>...</td>\n",
       "      <td>-0.013169</td>\n",
       "      <td>-0.001118</td>\n",
       "      <td>-0.004845</td>\n",
       "      <td>-0.008103</td>\n",
       "      <td>-0.001857</td>\n",
       "      <td>0.002281</td>\n",
       "      <td>0.002360</td>\n",
       "      <td>0.000180</td>\n",
       "      <td>2.253668e-06</td>\n",
       "      <td>-7.787931e-06</td>\n",
       "    </tr>\n",
       "    <tr>\n",
       "      <th>39</th>\n",
       "      <td>-0.046983</td>\n",
       "      <td>-0.105773</td>\n",
       "      <td>-0.094464</td>\n",
       "      <td>-0.000154</td>\n",
       "      <td>0.074396</td>\n",
       "      <td>-0.050564</td>\n",
       "      <td>0.030011</td>\n",
       "      <td>0.027773</td>\n",
       "      <td>0.117724</td>\n",
       "      <td>-0.138388</td>\n",
       "      <td>...</td>\n",
       "      <td>0.009453</td>\n",
       "      <td>0.003275</td>\n",
       "      <td>0.001552</td>\n",
       "      <td>0.001454</td>\n",
       "      <td>0.003492</td>\n",
       "      <td>0.000143</td>\n",
       "      <td>0.001251</td>\n",
       "      <td>0.001806</td>\n",
       "      <td>4.809769e-06</td>\n",
       "      <td>-7.204108e-06</td>\n",
       "    </tr>\n",
       "    <tr>\n",
       "      <th>40</th>\n",
       "      <td>0.071347</td>\n",
       "      <td>-0.037196</td>\n",
       "      <td>-0.065587</td>\n",
       "      <td>0.055421</td>\n",
       "      <td>-0.014827</td>\n",
       "      <td>0.004949</td>\n",
       "      <td>-0.025009</td>\n",
       "      <td>-0.059351</td>\n",
       "      <td>-0.007731</td>\n",
       "      <td>-0.127066</td>\n",
       "      <td>...</td>\n",
       "      <td>-0.007648</td>\n",
       "      <td>0.009428</td>\n",
       "      <td>-0.002618</td>\n",
       "      <td>-0.000133</td>\n",
       "      <td>-0.001559</td>\n",
       "      <td>0.004313</td>\n",
       "      <td>0.000754</td>\n",
       "      <td>-0.002301</td>\n",
       "      <td>1.193747e-05</td>\n",
       "      <td>-1.010932e-05</td>\n",
       "    </tr>\n",
       "    <tr>\n",
       "      <th>41</th>\n",
       "      <td>0.001381</td>\n",
       "      <td>0.089205</td>\n",
       "      <td>0.331117</td>\n",
       "      <td>0.002876</td>\n",
       "      <td>0.096689</td>\n",
       "      <td>-0.186202</td>\n",
       "      <td>0.038565</td>\n",
       "      <td>-0.018561</td>\n",
       "      <td>-0.225666</td>\n",
       "      <td>0.146318</td>\n",
       "      <td>...</td>\n",
       "      <td>-0.004870</td>\n",
       "      <td>0.004993</td>\n",
       "      <td>0.008199</td>\n",
       "      <td>-0.001811</td>\n",
       "      <td>-0.008106</td>\n",
       "      <td>-0.005193</td>\n",
       "      <td>0.005238</td>\n",
       "      <td>-0.000345</td>\n",
       "      <td>1.078537e-06</td>\n",
       "      <td>-8.873702e-06</td>\n",
       "    </tr>\n",
       "    <tr>\n",
       "      <th>42</th>\n",
       "      <td>0.158842</td>\n",
       "      <td>0.028104</td>\n",
       "      <td>-0.033920</td>\n",
       "      <td>0.011697</td>\n",
       "      <td>0.026227</td>\n",
       "      <td>-0.048662</td>\n",
       "      <td>-0.028317</td>\n",
       "      <td>-0.055227</td>\n",
       "      <td>-0.195065</td>\n",
       "      <td>-0.260977</td>\n",
       "      <td>...</td>\n",
       "      <td>0.005398</td>\n",
       "      <td>-0.010572</td>\n",
       "      <td>-0.003755</td>\n",
       "      <td>0.007576</td>\n",
       "      <td>0.001050</td>\n",
       "      <td>-0.003198</td>\n",
       "      <td>0.000639</td>\n",
       "      <td>-0.001011</td>\n",
       "      <td>-6.392207e-07</td>\n",
       "      <td>8.543147e-06</td>\n",
       "    </tr>\n",
       "    <tr>\n",
       "      <th>43</th>\n",
       "      <td>-0.113003</td>\n",
       "      <td>-0.158860</td>\n",
       "      <td>0.215464</td>\n",
       "      <td>-0.140731</td>\n",
       "      <td>-0.391589</td>\n",
       "      <td>0.296250</td>\n",
       "      <td>-0.047267</td>\n",
       "      <td>0.008855</td>\n",
       "      <td>-0.042437</td>\n",
       "      <td>0.020280</td>\n",
       "      <td>...</td>\n",
       "      <td>0.008194</td>\n",
       "      <td>-0.004966</td>\n",
       "      <td>-0.027558</td>\n",
       "      <td>-0.045249</td>\n",
       "      <td>-0.051212</td>\n",
       "      <td>-0.701868</td>\n",
       "      <td>-0.046157</td>\n",
       "      <td>-0.001364</td>\n",
       "      <td>-1.549162e-04</td>\n",
       "      <td>4.113750e-05</td>\n",
       "    </tr>\n",
       "    <tr>\n",
       "      <th>44</th>\n",
       "      <td>-0.002024</td>\n",
       "      <td>0.073344</td>\n",
       "      <td>0.019445</td>\n",
       "      <td>0.053160</td>\n",
       "      <td>-0.013545</td>\n",
       "      <td>-0.039784</td>\n",
       "      <td>-0.017209</td>\n",
       "      <td>-0.016931</td>\n",
       "      <td>-0.058344</td>\n",
       "      <td>-0.311487</td>\n",
       "      <td>...</td>\n",
       "      <td>0.030372</td>\n",
       "      <td>-0.007490</td>\n",
       "      <td>-0.003388</td>\n",
       "      <td>0.003073</td>\n",
       "      <td>-0.003331</td>\n",
       "      <td>-0.002160</td>\n",
       "      <td>-0.001108</td>\n",
       "      <td>0.001761</td>\n",
       "      <td>-3.888737e-07</td>\n",
       "      <td>-9.056670e-06</td>\n",
       "    </tr>\n",
       "    <tr>\n",
       "      <th>45</th>\n",
       "      <td>0.227420</td>\n",
       "      <td>0.271610</td>\n",
       "      <td>-0.088996</td>\n",
       "      <td>-0.025181</td>\n",
       "      <td>-0.112226</td>\n",
       "      <td>0.116721</td>\n",
       "      <td>-0.026660</td>\n",
       "      <td>0.054819</td>\n",
       "      <td>0.112853</td>\n",
       "      <td>-0.035690</td>\n",
       "      <td>...</td>\n",
       "      <td>0.606700</td>\n",
       "      <td>-0.070890</td>\n",
       "      <td>0.112083</td>\n",
       "      <td>-0.105085</td>\n",
       "      <td>0.186440</td>\n",
       "      <td>-0.014301</td>\n",
       "      <td>0.026924</td>\n",
       "      <td>-0.002030</td>\n",
       "      <td>-2.274337e-05</td>\n",
       "      <td>1.925175e-05</td>\n",
       "    </tr>\n",
       "    <tr>\n",
       "      <th>46</th>\n",
       "      <td>-0.174844</td>\n",
       "      <td>0.037836</td>\n",
       "      <td>-0.040479</td>\n",
       "      <td>0.156143</td>\n",
       "      <td>-0.083501</td>\n",
       "      <td>-0.121701</td>\n",
       "      <td>-0.092966</td>\n",
       "      <td>-0.577776</td>\n",
       "      <td>0.081358</td>\n",
       "      <td>0.063525</td>\n",
       "      <td>...</td>\n",
       "      <td>0.111495</td>\n",
       "      <td>0.702123</td>\n",
       "      <td>0.019149</td>\n",
       "      <td>0.000835</td>\n",
       "      <td>-0.011998</td>\n",
       "      <td>-0.002422</td>\n",
       "      <td>-0.000316</td>\n",
       "      <td>-0.000904</td>\n",
       "      <td>-1.927564e-05</td>\n",
       "      <td>-3.401191e-05</td>\n",
       "    </tr>\n",
       "    <tr>\n",
       "      <th>47</th>\n",
       "      <td>0.013379</td>\n",
       "      <td>-0.006672</td>\n",
       "      <td>-0.086706</td>\n",
       "      <td>0.103229</td>\n",
       "      <td>-0.431677</td>\n",
       "      <td>-0.430407</td>\n",
       "      <td>0.268962</td>\n",
       "      <td>0.151118</td>\n",
       "      <td>-0.036192</td>\n",
       "      <td>0.013559</td>\n",
       "      <td>...</td>\n",
       "      <td>-0.005552</td>\n",
       "      <td>-0.001811</td>\n",
       "      <td>-0.001401</td>\n",
       "      <td>-0.000630</td>\n",
       "      <td>0.000507</td>\n",
       "      <td>0.000706</td>\n",
       "      <td>0.000126</td>\n",
       "      <td>-0.000006</td>\n",
       "      <td>-6.980963e-01</td>\n",
       "      <td>-1.125240e-01</td>\n",
       "    </tr>\n",
       "    <tr>\n",
       "      <th>48</th>\n",
       "      <td>-0.008706</td>\n",
       "      <td>0.029746</td>\n",
       "      <td>-0.051672</td>\n",
       "      <td>-0.490156</td>\n",
       "      <td>0.069141</td>\n",
       "      <td>0.027744</td>\n",
       "      <td>0.433369</td>\n",
       "      <td>-0.209845</td>\n",
       "      <td>-0.014764</td>\n",
       "      <td>-0.038514</td>\n",
       "      <td>...</td>\n",
       "      <td>-0.003293</td>\n",
       "      <td>0.006380</td>\n",
       "      <td>0.000505</td>\n",
       "      <td>0.000209</td>\n",
       "      <td>-0.001600</td>\n",
       "      <td>-0.000702</td>\n",
       "      <td>-0.000659</td>\n",
       "      <td>-0.000129</td>\n",
       "      <td>1.125108e-01</td>\n",
       "      <td>-6.980997e-01</td>\n",
       "    </tr>\n",
       "    <tr>\n",
       "      <th>49</th>\n",
       "      <td>-0.227552</td>\n",
       "      <td>0.287610</td>\n",
       "      <td>-0.020873</td>\n",
       "      <td>-0.015666</td>\n",
       "      <td>-0.148522</td>\n",
       "      <td>0.115565</td>\n",
       "      <td>-0.047639</td>\n",
       "      <td>0.017715</td>\n",
       "      <td>-0.169582</td>\n",
       "      <td>-0.070502</td>\n",
       "      <td>...</td>\n",
       "      <td>0.045364</td>\n",
       "      <td>0.003667</td>\n",
       "      <td>0.235951</td>\n",
       "      <td>0.735661</td>\n",
       "      <td>0.187331</td>\n",
       "      <td>-0.066110</td>\n",
       "      <td>-0.039020</td>\n",
       "      <td>-0.049229</td>\n",
       "      <td>1.054810e-04</td>\n",
       "      <td>5.811085e-05</td>\n",
       "    </tr>\n",
       "    <tr>\n",
       "      <th>51</th>\n",
       "      <td>0.010028</td>\n",
       "      <td>0.016911</td>\n",
       "      <td>0.052989</td>\n",
       "      <td>0.425369</td>\n",
       "      <td>0.043191</td>\n",
       "      <td>0.301039</td>\n",
       "      <td>0.451111</td>\n",
       "      <td>-0.039396</td>\n",
       "      <td>-0.010117</td>\n",
       "      <td>0.007368</td>\n",
       "      <td>...</td>\n",
       "      <td>0.015056</td>\n",
       "      <td>-0.004602</td>\n",
       "      <td>-0.025707</td>\n",
       "      <td>0.050691</td>\n",
       "      <td>0.011045</td>\n",
       "      <td>-0.001026</td>\n",
       "      <td>-0.003877</td>\n",
       "      <td>0.703930</td>\n",
       "      <td>-5.649220e-05</td>\n",
       "      <td>-1.880391e-04</td>\n",
       "    </tr>\n",
       "    <tr>\n",
       "      <th>50</th>\n",
       "      <td>0.031872</td>\n",
       "      <td>0.126178</td>\n",
       "      <td>0.392861</td>\n",
       "      <td>-0.013139</td>\n",
       "      <td>0.069301</td>\n",
       "      <td>-0.117969</td>\n",
       "      <td>-0.010373</td>\n",
       "      <td>0.027703</td>\n",
       "      <td>0.026720</td>\n",
       "      <td>-0.091503</td>\n",
       "      <td>...</td>\n",
       "      <td>0.026041</td>\n",
       "      <td>0.001501</td>\n",
       "      <td>0.001306</td>\n",
       "      <td>0.001052</td>\n",
       "      <td>0.004172</td>\n",
       "      <td>-0.001039</td>\n",
       "      <td>0.003209</td>\n",
       "      <td>0.001615</td>\n",
       "      <td>-2.921266e-07</td>\n",
       "      <td>6.962593e-06</td>\n",
       "    </tr>\n",
       "  </tbody>\n",
       "</table>\n",
       "<p>52 rows × 52 columns</p>\n",
       "</div>"
      ],
      "text/plain": [
       "          0         1         2         3         4         5         6   \\\n",
       "0  -0.113397 -0.158270  0.216763 -0.142510 -0.391054  0.294943 -0.049004   \n",
       "1  -0.003605  0.102622  0.346324  0.030183  0.135655 -0.191752  0.063509   \n",
       "2   0.128755  0.032141 -0.018058  0.088915  0.059560 -0.028122 -0.040051   \n",
       "3   0.031727  0.116225 -0.005330 -0.024818 -0.030561  0.034087  0.025684   \n",
       "4   0.005752  0.015313 -0.026937  0.053273 -0.004758  0.124798  0.045853   \n",
       "5  -0.030016  0.056590  0.049124 -0.004817 -0.039855  0.024390 -0.017791   \n",
       "6   0.336565  0.052548  0.070066 -0.019121 -0.122175  0.082373 -0.041575   \n",
       "7   0.061668 -0.064813 -0.003977 -0.013424  0.053433  0.043172  0.030415   \n",
       "8   0.006853  0.064834  0.419097  0.001538  0.044391 -0.106101  0.030325   \n",
       "9  -0.153895  0.075754 -0.054812  0.140963 -0.100421 -0.109384 -0.102611   \n",
       "10 -0.229298  0.012026  0.145129  0.038634  0.099890 -0.052588  0.051725   \n",
       "11  0.013374 -0.006673 -0.086710  0.103225 -0.431676 -0.430410  0.268965   \n",
       "12  0.334874  0.070404  0.070845 -0.019496 -0.121103  0.082188 -0.041234   \n",
       "13 -0.024021 -0.031780  0.016582  0.077266 -0.016748  0.088530 -0.047569   \n",
       "14 -0.008703  0.029747 -0.051667 -0.490150  0.069127  0.027733  0.433380   \n",
       "15  0.323954 -0.033303  0.130845 -0.011294 -0.111464  0.068326 -0.035478   \n",
       "16 -0.010546 -0.026160 -0.053764 -0.425989 -0.050409 -0.296150 -0.452217   \n",
       "17 -0.258250  0.279707 -0.028544  0.000225 -0.082243  0.080166 -0.031253   \n",
       "18 -0.213446  0.292318 -0.022624 -0.013479 -0.157932  0.126511 -0.046067   \n",
       "19  0.162278  0.362472 -0.077556 -0.040318 -0.105443  0.089381 -0.047150   \n",
       "20 -0.027100 -0.209020 -0.396652  0.040125  0.005735  0.040793 -0.030851   \n",
       "21 -0.051565  0.125501  0.133075  0.010867 -0.026457 -0.024809  0.012824   \n",
       "22  0.011476  0.237150 -0.083630 -0.058431 -0.001444  0.042735  0.033658   \n",
       "23 -0.092800 -0.016466  0.086363 -0.049441 -0.094783 -0.058335 -0.030054   \n",
       "24  0.214996 -0.066058  0.033997  0.014073 -0.023391 -0.051853 -0.029177   \n",
       "25 -0.024535 -0.036842  0.010154 -0.033943  0.156673 -0.092454  0.021289   \n",
       "26 -0.140277 -0.158419  0.078041 -0.022559 -0.028478  0.014928  0.039239   \n",
       "27 -0.056206 -0.025590 -0.020187 -0.068859 -0.016736  0.072646 -0.025178   \n",
       "28  0.023184  0.321958 -0.075395 -0.000118 -0.004994 -0.021912  0.014087   \n",
       "29 -0.102795 -0.021755 -0.001932  0.017804 -0.116705  0.019165 -0.040521   \n",
       "30  0.249229 -0.145709  0.024044  0.019518 -0.060849  0.009931  0.005976   \n",
       "31 -0.035249 -0.040635 -0.035228  0.032148  0.078190 -0.083769  0.074884   \n",
       "32 -0.176368 -0.158035  0.089940  0.010720 -0.018215  0.042207  0.006552   \n",
       "34 -0.175300  0.014764 -0.042342 -0.031338  0.115705 -0.008285  0.024425   \n",
       "33 -0.096485  0.038945 -0.007055 -0.001088  0.018391  0.011493 -0.012623   \n",
       "35 -0.100214 -0.041792 -0.012856  0.044318  0.096983 -0.031951 -0.012950   \n",
       "36 -0.003269 -0.036192 -0.043853 -0.004419 -0.078346 -0.019324  0.004714   \n",
       "37 -0.019577 -0.306321  0.130294 -0.002507 -0.115470  0.040442  0.006640   \n",
       "38 -0.004378 -0.024553 -0.014489 -0.051927 -0.088727  0.039154  0.005143   \n",
       "39 -0.046983 -0.105773 -0.094464 -0.000154  0.074396 -0.050564  0.030011   \n",
       "40  0.071347 -0.037196 -0.065587  0.055421 -0.014827  0.004949 -0.025009   \n",
       "41  0.001381  0.089205  0.331117  0.002876  0.096689 -0.186202  0.038565   \n",
       "42  0.158842  0.028104 -0.033920  0.011697  0.026227 -0.048662 -0.028317   \n",
       "43 -0.113003 -0.158860  0.215464 -0.140731 -0.391589  0.296250 -0.047267   \n",
       "44 -0.002024  0.073344  0.019445  0.053160 -0.013545 -0.039784 -0.017209   \n",
       "45  0.227420  0.271610 -0.088996 -0.025181 -0.112226  0.116721 -0.026660   \n",
       "46 -0.174844  0.037836 -0.040479  0.156143 -0.083501 -0.121701 -0.092966   \n",
       "47  0.013379 -0.006672 -0.086706  0.103229 -0.431677 -0.430407  0.268962   \n",
       "48 -0.008706  0.029746 -0.051672 -0.490156  0.069141  0.027744  0.433369   \n",
       "49 -0.227552  0.287610 -0.020873 -0.015666 -0.148522  0.115565 -0.047639   \n",
       "51  0.010028  0.016911  0.052989  0.425369  0.043191  0.301039  0.451111   \n",
       "50  0.031872  0.126178  0.392861 -0.013139  0.069301 -0.117969 -0.010373   \n",
       "\n",
       "          7         8         9   ...        42        43        44        45  \\\n",
       "0   0.006120 -0.043989  0.019978  ...  0.013713 -0.003096  0.031851  0.042268   \n",
       "1  -0.070879 -0.147936  0.143243  ...  0.001742  0.006880 -0.012905  0.001092   \n",
       "2  -0.093088 -0.189385 -0.262861  ...  0.006527  0.002914 -0.002069  0.005415   \n",
       "3   0.069515  0.300379  0.427409  ...  0.046128  0.004319  0.010757  0.005290   \n",
       "4   0.006963  0.038114 -0.037407  ... -0.131572  0.012935 -0.022296  0.025389   \n",
       "5  -0.043392 -0.053733  0.330239  ...  0.026899 -0.008642 -0.005848 -0.001637   \n",
       "6  -0.038586  0.090399 -0.033175  ... -0.002911  0.007765 -0.052337  0.142439   \n",
       "7  -0.025382 -0.234936 -0.159169  ... -0.010027  0.001781 -0.002486 -0.001833   \n",
       "8  -0.026737  0.099330 -0.136968  ... -0.005034 -0.014520  0.007147 -0.001912   \n",
       "9  -0.591808  0.086880  0.075783  ... -0.081410 -0.694586 -0.028076  0.009604   \n",
       "10  0.081701  0.329335 -0.203107  ... -0.071799 -0.012775 -0.150666  0.077560   \n",
       "11  0.151109 -0.036196  0.013552  ... -0.005559 -0.001767 -0.001427 -0.000868   \n",
       "12 -0.030123  0.097611 -0.039844  ...  0.039401  0.002649 -0.035565  0.106195   \n",
       "13 -0.029007 -0.186910  0.002035  ... -0.012255  0.012601 -0.000747 -0.004642   \n",
       "14 -0.209843 -0.014764 -0.038522  ... -0.003315  0.006448  0.000480  0.000173   \n",
       "15 -0.068396  0.064380 -0.025170  ... -0.084814  0.023886  0.125462 -0.223522   \n",
       "16  0.036346 -0.005586 -0.005800  ...  0.017903  0.004765 -0.030393  0.045083   \n",
       "17  0.030130 -0.131021 -0.077911  ... -0.105604 -0.009948  0.599619 -0.515373   \n",
       "18  0.008413 -0.174570 -0.070786  ...  0.120544  0.018869 -0.713773 -0.286135   \n",
       "19  0.045670  0.012619  0.044435  ... -0.724550  0.122430 -0.097968  0.014879   \n",
       "20 -0.039111  0.049080 -0.064935  ... -0.075842  0.018561 -0.003675 -0.001529   \n",
       "21  0.004787  0.536461 -0.248328  ... -0.059224  0.025555  0.050705 -0.030885   \n",
       "22 -0.008422  0.019563  0.037940  ...  0.047567  0.010925  0.002426  0.007846   \n",
       "23 -0.084114  0.073931 -0.140990  ... -0.008448  0.006075 -0.000240 -0.003871   \n",
       "24 -0.160029 -0.084265 -0.034805  ... -0.008613  0.003413  0.003317  0.001783   \n",
       "25  0.080233 -0.080103 -0.016606  ... -0.013994 -0.016416  0.002667 -0.006627   \n",
       "26  0.030038 -0.000371 -0.070181  ... -0.000254  0.003711  0.008676 -0.001386   \n",
       "27  0.103112  0.122109 -0.094339  ... -0.002625  0.003084 -0.005909  0.000654   \n",
       "28  0.039348  0.023678 -0.065271  ...  0.064494 -0.003278 -0.002462  0.000916   \n",
       "29  0.012382 -0.028225 -0.281131  ... -0.006027  0.001805 -0.007065  0.002676   \n",
       "30 -0.131173 -0.010627  0.035907  ... -0.037133  0.005603  0.003185 -0.003654   \n",
       "31  0.027014  0.029508 -0.184647  ...  0.012825 -0.007277  0.006949  0.001436   \n",
       "32  0.010177 -0.012324 -0.064007  ... -0.014309 -0.012356  0.006601 -0.005212   \n",
       "34  0.183257  0.074630  0.135627  ...  0.018510  0.008826 -0.021094  0.016365   \n",
       "33  0.000929 -0.025768  0.075182  ...  0.009492 -0.007776 -0.002202  0.000696   \n",
       "35  0.116929  0.007828  0.089711  ...  0.014890  0.005513 -0.007126 -0.001000   \n",
       "36 -0.088479  0.257582 -0.004339  ... -0.000022 -0.007378  0.009765 -0.006994   \n",
       "37 -0.019968  0.005685  0.045685  ... -0.066479  0.014332  0.041396 -0.040716   \n",
       "38  0.013327  0.018280 -0.074592  ... -0.013169 -0.001118 -0.004845 -0.008103   \n",
       "39  0.027773  0.117724 -0.138388  ...  0.009453  0.003275  0.001552  0.001454   \n",
       "40 -0.059351 -0.007731 -0.127066  ... -0.007648  0.009428 -0.002618 -0.000133   \n",
       "41 -0.018561 -0.225666  0.146318  ... -0.004870  0.004993  0.008199 -0.001811   \n",
       "42 -0.055227 -0.195065 -0.260977  ...  0.005398 -0.010572 -0.003755  0.007576   \n",
       "43  0.008855 -0.042437  0.020280  ...  0.008194 -0.004966 -0.027558 -0.045249   \n",
       "44 -0.016931 -0.058344 -0.311487  ...  0.030372 -0.007490 -0.003388  0.003073   \n",
       "45  0.054819  0.112853 -0.035690  ...  0.606700 -0.070890  0.112083 -0.105085   \n",
       "46 -0.577776  0.081358  0.063525  ...  0.111495  0.702123  0.019149  0.000835   \n",
       "47  0.151118 -0.036192  0.013559  ... -0.005552 -0.001811 -0.001401 -0.000630   \n",
       "48 -0.209845 -0.014764 -0.038514  ... -0.003293  0.006380  0.000505  0.000209   \n",
       "49  0.017715 -0.169582 -0.070502  ...  0.045364  0.003667  0.235951  0.735661   \n",
       "51 -0.039396 -0.010117  0.007368  ...  0.015056 -0.004602 -0.025707  0.050691   \n",
       "50  0.027703  0.026720 -0.091503  ...  0.026041  0.001501  0.001306  0.001052   \n",
       "\n",
       "          46        47        48        49            50            51  \n",
       "0   0.039804  0.702271  0.046386 -0.001767  1.529373e-04 -2.894070e-05  \n",
       "1  -0.011134  0.001240  0.000771  0.000094 -6.393235e-06  4.303883e-08  \n",
       "2   0.001803 -0.001659  0.004537 -0.000527 -4.322315e-06  3.861478e-06  \n",
       "3  -0.011082 -0.001560 -0.000622  0.002430  1.109424e-05  1.158008e-05  \n",
       "4  -0.040155  0.000813 -0.006098  0.000449  8.892340e-06 -1.536388e-06  \n",
       "5  -0.004218  0.001618  0.002418  0.000140 -1.012712e-06 -3.742255e-06  \n",
       "6  -0.363168 -0.031926  0.737393 -0.001912  1.184929e-04 -4.794598e-05  \n",
       "7   0.002000  0.001336  0.002854 -0.000249 -6.411855e-06 -4.171133e-06  \n",
       "8   0.002093 -0.000529 -0.002067 -0.001371  8.146497e-06 -1.002729e-05  \n",
       "9   0.007958  0.000430 -0.003614  0.000676  1.341722e-05  3.492855e-05  \n",
       "10  0.051395 -0.003415  0.004756  0.002643 -3.752830e-06 -6.176901e-06  \n",
       "11  0.000509  0.000439 -0.000051  0.000184  6.980993e-01  1.125044e-01  \n",
       "12 -0.504771  0.070989 -0.663460 -0.004841 -5.411528e-05  4.571341e-06  \n",
       "13 -0.004510 -0.002180 -0.000453  0.000096  3.286101e-06 -7.957800e-06  \n",
       "14 -0.001652 -0.000582 -0.000566  0.000228 -1.125175e-01  6.980959e-01  \n",
       "15  0.674609 -0.029819 -0.082270  0.011591 -5.293486e-05  1.348944e-06  \n",
       "16  0.009194 -0.003117 -0.004043  0.705027 -6.087471e-05 -1.879295e-04  \n",
       "17 -0.259574  0.020478  0.047225  0.064677 -7.193040e-05 -5.339196e-05  \n",
       "18  0.021056  0.045484  0.001589 -0.017200 -4.782732e-05 -3.557034e-05  \n",
       "19  0.103668  0.001041 -0.014707  0.013066 -1.388717e-05 -1.480630e-05  \n",
       "20  0.011708 -0.003793 -0.008272 -0.001855 -1.028836e-05 -4.382547e-06  \n",
       "21  0.000755 -0.000705  0.004084  0.010032 -4.961257e-07 -6.573933e-06  \n",
       "22  0.000346 -0.002267 -0.000077  0.000292 -7.852094e-06 -2.270453e-06  \n",
       "23  0.000196  0.001135  0.001586 -0.000897 -3.875222e-06  5.981312e-06  \n",
       "24  0.005314 -0.002889 -0.001093  0.000108  7.161788e-07  4.636658e-06  \n",
       "25  0.000772 -0.000208 -0.002397 -0.000317 -1.260923e-05  1.335325e-07  \n",
       "26 -0.004345 -0.001410  0.000584 -0.000545 -3.668014e-07 -7.479993e-06  \n",
       "27  0.003730 -0.002042 -0.000444  0.000128  2.213303e-06  9.766977e-06  \n",
       "28 -0.001619 -0.000835 -0.003290  0.001019  6.608730e-06 -3.773522e-06  \n",
       "29 -0.004451  0.000846 -0.001518 -0.001827  6.042030e-06  6.510723e-06  \n",
       "30  0.002059  0.000496  0.000740  0.000708 -1.429629e-05 -1.833641e-05  \n",
       "31 -0.000344  0.001282 -0.000745  0.000260 -7.260206e-06 -7.106627e-06  \n",
       "32 -0.005940  0.003426 -0.000749  0.000861 -9.434332e-06 -1.491444e-06  \n",
       "34  0.000409  0.001804 -0.002001  0.001968  3.061243e-06 -1.200673e-05  \n",
       "33  0.000348 -0.003634  0.002490 -0.000007 -5.960255e-07 -7.341588e-06  \n",
       "35  0.002605 -0.001006 -0.001416  0.000549 -1.116022e-05 -6.575892e-06  \n",
       "36  0.000926  0.000252  0.002296  0.002068 -1.404681e-05 -1.324409e-05  \n",
       "37 -0.015367 -0.001493  0.002592 -0.004850 -8.456681e-06 -1.664352e-05  \n",
       "38 -0.001857  0.002281  0.002360  0.000180  2.253668e-06 -7.787931e-06  \n",
       "39  0.003492  0.000143  0.001251  0.001806  4.809769e-06 -7.204108e-06  \n",
       "40 -0.001559  0.004313  0.000754 -0.002301  1.193747e-05 -1.010932e-05  \n",
       "41 -0.008106 -0.005193  0.005238 -0.000345  1.078537e-06 -8.873702e-06  \n",
       "42  0.001050 -0.003198  0.000639 -0.001011 -6.392207e-07  8.543147e-06  \n",
       "43 -0.051212 -0.701868 -0.046157 -0.001364 -1.549162e-04  4.113750e-05  \n",
       "44 -0.003331 -0.002160 -0.001108  0.001761 -3.888737e-07 -9.056670e-06  \n",
       "45  0.186440 -0.014301  0.026924 -0.002030 -2.274337e-05  1.925175e-05  \n",
       "46 -0.011998 -0.002422 -0.000316 -0.000904 -1.927564e-05 -3.401191e-05  \n",
       "47  0.000507  0.000706  0.000126 -0.000006 -6.980963e-01 -1.125240e-01  \n",
       "48 -0.001600 -0.000702 -0.000659 -0.000129  1.125108e-01 -6.980997e-01  \n",
       "49  0.187331 -0.066110 -0.039020 -0.049229  1.054810e-04  5.811085e-05  \n",
       "51  0.011045 -0.001026 -0.003877  0.703930 -5.649220e-05 -1.880391e-04  \n",
       "50  0.004172 -0.001039  0.003209  0.001615 -2.921266e-07  6.962593e-06  \n",
       "\n",
       "[52 rows x 52 columns]"
      ]
     },
     "execution_count": 12,
     "metadata": {},
     "output_type": "execute_result"
    }
   ],
   "source": [
    "df_ranked.drop('autovalues',1).drop('percent_explained_var',1)"
   ]
  },
  {
   "cell_type": "code",
   "execution_count": 13,
   "metadata": {},
   "outputs": [
    {
     "ename": "NameError",
     "evalue": "name 'explained_variance' is not defined",
     "output_type": "error",
     "traceback": [
      "\u001b[0;31m---------------------------------------------------------------------------\u001b[0m",
      "\u001b[0;31mNameError\u001b[0m                                 Traceback (most recent call last)",
      "\u001b[0;32m<ipython-input-13-5a79d83e6675>\u001b[0m in \u001b[0;36m<module>\u001b[0;34m\u001b[0m\n\u001b[0;32m----> 1\u001b[0;31m \u001b[0mexplained_variance\u001b[0m\u001b[0;34m\u001b[0m\u001b[0;34m\u001b[0m\u001b[0m\n\u001b[0m",
      "\u001b[0;31mNameError\u001b[0m: name 'explained_variance' is not defined"
     ]
    }
   ],
   "source": [
    "explained_variance"
   ]
  },
  {
   "cell_type": "markdown",
   "metadata": {},
   "source": [
    "###  Determining LCS and "
   ]
  },
  {
   "cell_type": "code",
   "execution_count": 14,
   "metadata": {},
   "outputs": [
    {
     "name": "stderr",
     "output_type": "stream",
     "text": [
      "R[write to console]: During startup - \n",
      "R[write to console]: Warning message:\n",
      "\n",
      "R[write to console]: Setting LC_TIME failed, using \"C\" \n",
      "\n"
     ]
    }
   ],
   "source": [
    "%load_ext rpy2.ipython"
   ]
  },
  {
   "cell_type": "code",
   "execution_count": 15,
   "metadata": {},
   "outputs": [
    {
     "name": "stderr",
     "output_type": "stream",
     "text": [
      "R[write to console]: Loading required package: Hotelling\n",
      "\n",
      "R[write to console]: Loading required package: corpcor\n",
      "\n"
     ]
    },
    {
     "data": {
      "text/plain": [
       "array([1], dtype=int32)"
      ]
     },
     "execution_count": 15,
     "metadata": {},
     "output_type": "execute_result"
    }
   ],
   "source": [
    "%R require(Hotelling)"
   ]
  },
  {
   "cell_type": "code",
   "execution_count": 16,
   "metadata": {},
   "outputs": [
    {
     "name": "stderr",
     "output_type": "stream",
     "text": [
      "R[write to console]: Error in HotellingsT2(w) : could not find function \"HotellingsT2\"\n",
      "Calls: <Anonymous> -> <Anonymous> -> withVisible\n",
      "\n"
     ]
    },
    {
     "name": "stdout",
     "output_type": "stream",
     "text": [
      "\n",
      "Error in HotellingsT2(w) : could not find function \"HotellingsT2\"\n",
      "Calls: <Anonymous> -> <Anonymous> -> withVisible\n"
     ]
    }
   ],
   "source": [
    "%R HotellingsT2(w)"
   ]
  },
  {
   "cell_type": "markdown",
   "metadata": {},
   "source": [
    "---\n",
    "\n",
    "### Sklearn PCA solution"
   ]
  },
  {
   "cell_type": "code",
   "execution_count": 17,
   "metadata": {},
   "outputs": [],
   "source": [
    "from sklearn.decomposition import PCA"
   ]
  },
  {
   "cell_type": "code",
   "execution_count": 18,
   "metadata": {},
   "outputs": [],
   "source": [
    "pca = PCA(n_components=11)\n",
    "principalComponents = pca.fit_transform(df)\n",
    "principalDf = pd.DataFrame(data = principalComponents)"
   ]
  },
  {
   "cell_type": "code",
   "execution_count": 19,
   "metadata": {},
   "outputs": [
    {
     "data": {
      "image/png": "[encoded data removed]",
      "text/plain": [
       "<Figure size 432x288 with 1 Axes>"
      ]
     },
     "metadata": {
      "needs_background": "light"
     },
     "output_type": "display_data"
    }
   ],
   "source": [
    "pca = PCA().fit(df)\n",
    "plt.plot(np.cumsum(pca.explained_variance_ratio_))\n",
    "plt.xlabel('number of components')\n",
    "plt.ylabel('cumulative explained variance');"
   ]
  },
  {
   "cell_type": "code",
   "execution_count": 20,
   "metadata": {},
   "outputs": [
    {
     "data": {
      "text/plain": [
       "1.0"
      ]
     },
     "execution_count": 20,
     "metadata": {},
     "output_type": "execute_result"
    }
   ],
   "source": [
    "sum(pca.explained_variance_ratio_)"
   ]
  },
  {
   "cell_type": "code",
   "execution_count": 22,
   "metadata": {},
   "outputs": [
    {
     "data": {
      "image/png": "[encoded data removed]",
      "text/plain": [
       "<Figure size 1080x288 with 1 Axes>"
      ]
     },
     "metadata": {
      "needs_background": "light"
     },
     "output_type": "display_data"
    }
   ],
   "source": [
    "principalDf.plot(figsize = (15,4));"
   ]
  },
  {
   "cell_type": "markdown",
   "metadata": {},
   "source": [
    "---"
   ]
  },
  {
   "cell_type": "markdown",
   "metadata": {},
   "source": [
    "## T2\n",
    "\n",
    "$T^2$ is a scalar number that summarizes all the score values. The $T^2$ value for the $i^{th}$ observation is defined as:\n",
    "$$T^2 = \\Sigma^{a=A}_{a = 1}\\Big(\\frac{t_{i,a}}{s_a}\\Big)^2$$\n",
    "Where the $s^2_a$ values are constants, and are the variances of each component. A is the component of the PCA model."
   ]
  },
  {
   "cell_type": "code",
   "execution_count": null,
   "metadata": {},
   "outputs": [],
   "source": []
  },
  {
   "cell_type": "markdown",
   "metadata": {},
   "source": [
    "## Distributions"
   ]
  },
  {
   "cell_type": "code",
   "execution_count": 16,
   "metadata": {},
   "outputs": [
    {
     "data": {
      "application/vnd.jupyter.widget-view+json": {
       "model_id": "fa1102d463fb4896a0d53a8f453bb63e",
       "version_major": 2,
       "version_minor": 0
      },
      "text/plain": [
       "interactive(children=(Dropdown(description='x', options=('f0', 'f1', 'f2', 'f3', 'f4', 'f5', 'f6', 'f7', 'f8',…"
      ]
     },
     "metadata": {},
     "output_type": "display_data"
    }
   ],
   "source": [
    "@interact(x = d00.columns)\n",
    "\n",
    "def f(x):\n",
    "    sns.distplot(d00[[x]])\n",
    "    plt.title(x)\n",
    "    plt.show()"
   ]
  }
 ],
 "metadata": {
  "kernelspec": {
   "display_name": "Python 3",
   "language": "python",
   "name": "python3"
  },
  "language_info": {
   "codemirror_mode": {
    "name": "ipython",
    "version": 3
   },
   "file_extension": ".py",
   "mimetype": "text/x-python",
   "name": "python",
   "nbconvert_exporter": "python",
   "pygments_lexer": "ipython3",
   "version": "3.7.3"
  }
 },
 "nbformat": 4,
 "nbformat_minor": 2
}
